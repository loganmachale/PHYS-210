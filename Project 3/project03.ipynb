{
 "cells": [
  {
   "cell_type": "markdown",
   "metadata": {
    "collapsed": false,
    "deletable": false,
    "editable": false,
    "nbgrader": {
     "grade": false,
     "grade_id": "0c2615",
     "locked": true,
     "schema_version": 3,
     "solution": false,
     "task": false
    }
   },
   "source": [
    "# PHYS 210 Mini-Project 03\n",
    "### Ferromagneticsm\n",
    "Due Wed, Nov 23, 2022 - 9am"
   ]
  },
  {
   "cell_type": "markdown",
   "metadata": {
    "collapsed": false,
    "deletable": false,
    "editable": false,
    "nbgrader": {
     "grade": false,
     "grade_id": "cell-5d2cd2b82e190c0d0",
     "locked": true,
     "schema_version": 3,
     "solution": false,
     "task": false
    }
   },
   "source": [
    "#### Project objective\n",
    "\n",
    "Explore the Curie temperature and the Ising model of Ferromagnetism\n",
    "\n",
    "#### Before getting started\n",
    "\n",
    "* Read the Mini-Project 03 background handout in the same folder as this notebook. It provides all the details."
   ]
  },
  {
   "cell_type": "code",
   "execution_count": 3,
   "metadata": {
    "collapsed": false,
    "deletable": false,
    "nbgrader": {
     "cell_type": "code",
     "checksum": "04afa971d75dff9fcbbb6c16be2d635b",
     "grade": true,
     "grade_id": "cell-project3-1",
     "locked": false,
     "points": 0,
     "schema_version": 3,
     "solution": true,
     "task": false
    }
   },
   "outputs": [],
   "source": [
    "\"\"\"The code in this project will simulate the evolution of\n",
    "a ferromagnetic system over time using th Ising model.\n",
    "This simulation will be modelled in 2-dimensional\n",
    "animations and the Curie temperature will be estimated.\"\"\"\n",
    "\n",
    "import matplotlib.animation as animation\n",
    "import matplotlib.pyplot as plt\n",
    "import numpy as np\n",
    "from IPython.display import HTML\n",
    "import copy\n",
    "\n",
    "\n",
    "def interaction(i, j, grid):\n",
    "    \"\"\"This function calculates the spin-spin interactions of one electron\n",
    "    and its non-diagonal neighbours.\n",
    "\n",
    "    i: x position of electron in grid.\n",
    "    j: y position of electron in grid.\n",
    "    grid: the grid model of electrons.\n",
    "\n",
    "    returns the value of the spin interactions.\"\"\"\n",
    "\n",
    "    # calculates the value of these interactions based on the provided formula\n",
    "    interacval = grid[j, i] * (grid[j, i - 1] + grid[j, (i + 1) % x] +\n",
    "                               grid[j - 1, i] + grid[(j + 1) % y, i])\n",
    "    return interacval  # returns the value of spin interactions\n",
    "\n",
    "\n",
    "def initial_H(grid):\n",
    "    \"\"\"This function calculates the initial energy of\n",
    "    the electron grid model.\n",
    "\n",
    "    grid: the grid model of electrons.\n",
    "\n",
    "    returns the energy of the grid of electrons.\"\"\"\n",
    "\n",
    "    J = 1  # magnitude of spin-spin interaction\n",
    "    # defining total energy variable out of loop\n",
    "    total = 0\n",
    "    for j in range(y):\n",
    "        for i in range(x):\n",
    "            # adds the interactions of electrons in grid\n",
    "            total += interaction(i, j, grid)\n",
    "    return -J / 2 * total  # returns the energy of the grid\n",
    "\n",
    "\n",
    "def Hprime(iflip, jflip, old_energy, grid):\n",
    "    \"\"\"This function calculates the energy of a new\n",
    "    configuration resulting in the flipping of an\n",
    "    electron's spin at a specified position in the 50x50\n",
    "    grid. This calculation is based on the previous\n",
    "    configurations energy and the properties of the\n",
    "    summation formula for calculating the energy of\n",
    "    the overall system.\n",
    "\n",
    "    iflip: the x position of electron to be flipped.\n",
    "    jflip: the y position of electron to be flipped.\n",
    "    old_energy: the energy of the previous configuration.\n",
    "    grid: the grid model of electrons.\n",
    "\n",
    "    returns the energy of the new (tentative) configuration.\"\"\"\n",
    "\n",
    "    J = 1  # magnitude of spin-spin interaction\n",
    "    # calculates the energy of new configuration\n",
    "    # this calculation has been simplified algebraically\n",
    "    newE = old_energy + 2 * J * interaction(iflip, jflip, grid)\n",
    "    return newE  # returns energy of new configuration\n",
    "\n",
    "\n",
    "def Pkeep(new_energy, old_energy):\n",
    "    \"\"\"This function calculates the probability that a new\n",
    "    configuration is kept in the case this new configuration\n",
    "    has higher energy than the origional.\n",
    "\n",
    "    new_energy: the energy of the new configuration.\n",
    "    old_energy: the energy of the previous configuration.\n",
    "\n",
    "    returns the probability of keeping the new configuratrion.\"\"\"\n",
    "\n",
    "    # calculates and returns the probability of keeping new config\n",
    "    return np.e**(-(new_energy - old_energy) / T)\n",
    "\n",
    "\n",
    "def UpdateState(old_energy, grid):\n",
    "    \"\"\"This function randomly chooses an electron in the\n",
    "    50x50 grid to be flipped. It then calculates if this\n",
    "    energy if lower or higher, and if it is lower this\n",
    "    new energy is stored into the global variable\n",
    "    accepted_energy. If the new energy is higher, the new\n",
    "    configuration will be kept or discarded based on a\n",
    "    probablity dependent on the temperature of the system\n",
    "    and the difference in energy between the 2 configurations.\n",
    "\n",
    "    old_energy: the energy of the previous configuration.\n",
    "    grid: the grid model of electrons.\n",
    "\n",
    "    returns nothing.\"\"\"\n",
    "\n",
    "    # referances the global variable accepted_energy\n",
    "    global accepted_energy\n",
    "\n",
    "    # position of random electron flipped\n",
    "    randx = np.random.randint(low=0, high=x)\n",
    "    randy = np.random.randint(low=0, high=y)\n",
    "\n",
    "    # calculates the energy of the new configuration\n",
    "    newE = Hprime(randx, randy, old_energy, grid)\n",
    "\n",
    "    # if the new configuration has lower energy\n",
    "    if newE <= old_energy:\n",
    "        # modify grid in place to accept change\n",
    "        grid[randy, randx] *= -1\n",
    "        # accepted energy becomes a copy of newE\n",
    "        accepted_energy = copy.deepcopy(newE)\n",
    "    else:  # if the new configuration has higher energy\n",
    "        # if by chance the configuration is accpeted\n",
    "        if np.random.random() <= Pkeep(newE, old_energy):\n",
    "            # modify grid in place to accept change\n",
    "            grid[randy, randx] *= -1\n",
    "            # accepted energy becomes a copy of newE\n",
    "            accepted_energy = copy.deepcopy(newE)\n",
    "        # if by chance the configuration is rejected\n",
    "        else:\n",
    "            # accepted energy is the energy of old config\n",
    "            accepted_energy = copy.deepcopy(old_energy)\n",
    "\n",
    "\n",
    "def GetFrames(temperature, stepcount, framecount):\n",
    "    \"\"\"This function simulates the ferromagnetic system\n",
    "    over a specified number of steps at a given temperature\n",
    "    while storing frames for later animation.\n",
    "\n",
    "    temperature: the temperature to simulate the syystem at.\n",
    "    stepcount: the number of iterations in the simulation.\n",
    "    framecount: the number of frames in the animation\n",
    "\n",
    "    returns the list of images to be animated.\"\"\"\n",
    "\n",
    "    # makes a 50x50 grid of electrons with random state -1 or 1\n",
    "    # defines x and y as global variables as they will be used\n",
    "    # in other functions\n",
    "    global x\n",
    "    global y\n",
    "    x = 50  # width of electron grid\n",
    "    y = 50  # height of electron grid\n",
    "    # creates a grid of random 0s and 1s with dimensions x by y\n",
    "    grid = np.random.randint(low=0, high=2, size=(x, y))\n",
    "    # converts all 0s to -1s\n",
    "    grid[grid < 1] = -1\n",
    "    # references global variable T as it is used in other functions\n",
    "    global T\n",
    "    T = temperature  # temperature\n",
    "    steps = stepcount  # number of iterations\n",
    "    ims = []  # List to store grids of electron states\n",
    "    frames = framecount  # number of frames for the animation\n",
    "    finterval = int(steps / frames)  # number of steps between rendered frames\n",
    "\n",
    "    startE = initial_H(grid)\n",
    "\n",
    "    for n in range(steps):\n",
    "        if n == 0:  # checks if it is loops first run\n",
    "            # uses starting energy as previous energy for state update\n",
    "            UpdateState(startE, grid)\n",
    "            # assigns a copy of the accepted energy to oldE for the\n",
    "            # next iteration of the for loop where it will be used\n",
    "            # as the previous energy\n",
    "            oldE = copy.deepcopy(accepted_energy)\n",
    "        else:\n",
    "            # uses the energy of the previous iteration oldE\n",
    "            # for the state update\n",
    "            UpdateState(oldE, grid)\n",
    "            # assigns a copy of the accepted energy to oldE for the\n",
    "            # next iteration of the for loop where it will be used\n",
    "            # as the previous energy\n",
    "            oldE = copy.deepcopy(accepted_energy)\n",
    "\n",
    "        # checks if this interval should be a frame in the animation\n",
    "        if n % finterval == 0:\n",
    "            # each image added as a tuple to ims\n",
    "            ims.append((plt.pcolormesh(grid, cmap='jet'), ))\n",
    "    return ims  # returns the list of images to be animated\n",
    "\n",
    "\n",
    "def GenEndState(temperature, stepcount):\n",
    "    \"\"\"This function generates the \"\"end state\"\" for the\n",
    "    ferromagnetic system after a specified number of steps\n",
    "    at a given temperature.\n",
    "\n",
    "    temperature: the temperature to simulate the syystem at.\n",
    "    stepcount: the number of iterations in the simulation.\n",
    "\n",
    "    returns the final 50x50 grid of electons after specified\n",
    "    number of iterations.\"\"\"\n",
    "\n",
    "    # makes a 50x50 grid of electrons with random state -1 or 1\n",
    "    # defines x and y as global variables as they will be used\n",
    "    # in other functions\n",
    "    global x\n",
    "    global y\n",
    "    x = 50  # width of electron grid\n",
    "    y = 50  # height of electron grid\n",
    "    # creates a grid of random 0s and 1s with dimensions x by y\n",
    "    grid = np.random.randint(low=0, high=2, size=(x, y))\n",
    "    # converts all 0s to -1s\n",
    "    grid[grid < 1] = -1\n",
    "    # references global variable T as it is used in other functions\n",
    "    global T\n",
    "    T = temperature  # temperature\n",
    "    steps = stepcount  # number of iterations\n",
    "\n",
    "    # calculates starting energy of system\n",
    "    startE = initial_H(grid)\n",
    "\n",
    "    for n in range(steps):  # runs for number of desired steps\n",
    "        if n == 0:  # checks if it is loops first run\n",
    "            # uses starting energy as previous energy for state update\n",
    "            UpdateState(startE, grid)\n",
    "            # assigns a copy of the accepted energy to oldE for the\n",
    "            # next iteration of the for loop where it will be used\n",
    "            # as the previous energy\n",
    "            oldE = copy.deepcopy(accepted_energy)\n",
    "        elif n == steps - 1:  # checks if this is last iteration of loop\n",
    "            endstate = np.copy(grid)  # stores copy of current system\n",
    "            return endstate  # returns the final state of system\n",
    "        else:\n",
    "            # uses the energy of the previous iteration oldE\n",
    "            # for the state update\n",
    "            UpdateState(oldE, grid)\n",
    "            # assigns a copy of the accepted energy to oldE for the\n",
    "            # next iteration of the for loop where it will be used\n",
    "            # as the previous energy\n",
    "            oldE = copy.deepcopy(accepted_energy)\n",
    "\n",
    "\n",
    "def Animation(temperature, name, framecount, stepcount):\n",
    "    \"\"\"This function saves an animation with a specified name\n",
    "    and number of frames of the simulated ferromagnetic system\n",
    "    at a given temperature. It will run a specified number of\n",
    "    iterations for that system.\n",
    "\n",
    "    temperature: the temperature to simulate the syystem at.\n",
    "    name: the name of the file to be saved to the computer.\n",
    "    framecount: the number of frames in the animation.\n",
    "    stepcount: the number of iterations in the simulation.\n",
    "\n",
    "    returns nothing\"\"\"\n",
    "\n",
    "    fig = plt.figure()  # Create a new figure\n",
    "\n",
    "    # runs the GetFrames() function at the specified temperature, stepcount,\n",
    "    # and framecount to obtain the frames to be stored in ims for animation\n",
    "    ims = GetFrames(temperature=temperature,\n",
    "                    stepcount=stepcount,\n",
    "                    framecount=framecount)\n",
    "\n",
    "    # Animate the frames stored in ims\n",
    "    imani = animation.ArtistAnimation(\n",
    "        fig,  # Not used here, but would be needed for resizing, etc\n",
    "        ims,  # The list to animate\n",
    "        interval=50,  # Time between frames in ms\n",
    "        repeat=False  # Repeat not used here. Useful in later projects\n",
    "    )\n",
    "\n",
    "    # Save to a file: which can be viewed from outside or within the notebook\n",
    "    imani.save(\"{}.webm\".format(name), extra_args=['-vcodec', 'libvpx'])\n",
    "    plt.close()  # Prevents a stray plot from appearing\n",
    "    # Release crucial memory related to these objects\n",
    "    del imani\n",
    "    del ims\n",
    "\n",
    "\n",
    "def getM(temp):\n",
    "    \"\"\"This function calculates the average magnetic moment M for\n",
    "    the end state of the modelled system (after 600,000 iterations)\n",
    "    at some given temperature.\n",
    "\n",
    "    temp: the temperature at which the system is modelled at.\n",
    "\n",
    "    returns the average magnetic moment M for the end state of\n",
    "    the system.\"\"\"\n",
    "\n",
    "    # references global x and y variables (the size of the electron grid)\n",
    "    global x\n",
    "    global y\n",
    "    mewb = 1  # the magnetic moment of an electron used for this project\n",
    "    # calculates the final grid of electrons after 600,000 iterations\n",
    "    # this is called the \"end state\" throuhout this project\n",
    "    endstate = GenEndState(temp, 600000)\n",
    "    endsum = np.sum(endstate)  # sums the spins of electrons in grid\n",
    "    M = endsum / (x * y) * mewb  # calculates average magnetic moment\n",
    "    return M  # returns average magnetic moment for system\n",
    "\n",
    "\n",
    "def maxM(n, temp):\n",
    "    \"\"\"This function independently calculates n values of the\n",
    "    average magnetic moment M for the end state of the modelled\n",
    "    system at a specific temperature and returns the maximum of\n",
    "    these values (absolute values).\n",
    "\n",
    "    n: number of times we want to independently calculate M.\n",
    "\n",
    "    returns the maximum value of M obtained from the n independent\n",
    "    values.\"\"\"\n",
    "\n",
    "    arr = np.array([])  # defines an empty array outside of for loop\n",
    "    for i in range(n):  # loops n times\n",
    "        # appends calculated M value to array arr\n",
    "        arr = np.append(arr, getM(temp))\n",
    "    arr = np.abs(arr)  # converts the array arr to absolute value\n",
    "    return np.max(arr)  # returns the maximim value of M in arr"
   ]
  },
  {
   "cell_type": "code",
   "execution_count": 6,
   "metadata": {
    "collapsed": false,
    "deletable": false,
    "nbgrader": {
     "cell_type": "code",
     "checksum": "ce9369019ea5952bbf9232be1ecc500d",
     "grade": true,
     "grade_id": "cell-project3-2",
     "locked": false,
     "points": 0,
     "schema_version": 3,
     "solution": true,
     "task": false
    }
   },
   "outputs": [
    {
     "ename": "KeyboardInterrupt",
     "evalue": "",
     "output_type": "error",
     "traceback": [
      "\u001b[1;31m---------------------------------------------------------------------------\u001b[0m",
      "\u001b[1;31mKeyboardInterrupt\u001b[0m                         Traceback (most recent call last)",
      "Cell \u001b[1;32mIn [6], line 6\u001b[0m\n\u001b[0;32m      3\u001b[0m T_arr \u001b[39m=\u001b[39m [\u001b[39m0.01\u001b[39m, \u001b[39m0.1\u001b[39m, \u001b[39m1\u001b[39m, \u001b[39m2\u001b[39m, \u001b[39m3\u001b[39m, \u001b[39m4\u001b[39m, \u001b[39m5\u001b[39m, \u001b[39m10\u001b[39m, \u001b[39m100\u001b[39m]\n\u001b[0;32m      5\u001b[0m \u001b[39m# uses map() function to map T_arr and number of iterations to mxM()\u001b[39;00m\n\u001b[1;32m----> 6\u001b[0m M_arr \u001b[39m=\u001b[39m \u001b[39mlist\u001b[39;49m(\u001b[39mmap\u001b[39;49m(maxM, [\u001b[39m5\u001b[39;49m] \u001b[39m*\u001b[39;49m \u001b[39mlen\u001b[39;49m(T_arr), T_arr))\n\u001b[0;32m      8\u001b[0m \u001b[39m# plots M vs T for T_arr\u001b[39;00m\n\u001b[0;32m      9\u001b[0m plt\u001b[39m.\u001b[39mfigure(\u001b[39m1\u001b[39m)\n",
      "Cell \u001b[1;32mIn [5], line 308\u001b[0m, in \u001b[0;36mmaxM\u001b[1;34m(n, temp)\u001b[0m\n\u001b[0;32m    305\u001b[0m arr \u001b[39m=\u001b[39m np\u001b[39m.\u001b[39marray([])  \u001b[39m# defines an empty array outside of for loop\u001b[39;00m\n\u001b[0;32m    306\u001b[0m \u001b[39mfor\u001b[39;00m i \u001b[39min\u001b[39;00m \u001b[39mrange\u001b[39m(n):  \u001b[39m# loops n times\u001b[39;00m\n\u001b[0;32m    307\u001b[0m     \u001b[39m# appends calculated M value to array arr\u001b[39;00m\n\u001b[1;32m--> 308\u001b[0m     arr \u001b[39m=\u001b[39m np\u001b[39m.\u001b[39mappend(arr, getM(temp))\n\u001b[0;32m    309\u001b[0m arr \u001b[39m=\u001b[39m np\u001b[39m.\u001b[39mabs(arr)  \u001b[39m# converts the array arr to absolute value\u001b[39;00m\n\u001b[0;32m    310\u001b[0m \u001b[39mreturn\u001b[39;00m np\u001b[39m.\u001b[39mmax(arr)\n",
      "Cell \u001b[1;32mIn [5], line 288\u001b[0m, in \u001b[0;36mgetM\u001b[1;34m(temp)\u001b[0m\n\u001b[0;32m    285\u001b[0m mewb \u001b[39m=\u001b[39m \u001b[39m1\u001b[39m  \u001b[39m# the magnetic moment of an electron used for this project\u001b[39;00m\n\u001b[0;32m    286\u001b[0m \u001b[39m# calculates the final grid of electrons after 600,000 iterations\u001b[39;00m\n\u001b[0;32m    287\u001b[0m \u001b[39m# this is called the \"end state\" throuhout this project\u001b[39;00m\n\u001b[1;32m--> 288\u001b[0m endstate \u001b[39m=\u001b[39m GenEndState(temp, \u001b[39m600000\u001b[39;49m)\n\u001b[0;32m    289\u001b[0m endsum \u001b[39m=\u001b[39m np\u001b[39m.\u001b[39msum(endstate)  \u001b[39m# sums the spins of electrons in grid\u001b[39;00m\n\u001b[0;32m    290\u001b[0m M \u001b[39m=\u001b[39m endsum \u001b[39m/\u001b[39m (x \u001b[39m*\u001b[39m y) \u001b[39m*\u001b[39m mewb  \u001b[39m# calculates average magnetic moment\u001b[39;00m\n",
      "Cell \u001b[1;32mIn [5], line 228\u001b[0m, in \u001b[0;36mGenEndState\u001b[1;34m(temperature, stepcount)\u001b[0m\n\u001b[0;32m    224\u001b[0m     \u001b[39mreturn\u001b[39;00m endstate  \u001b[39m# returns the final state of system\u001b[39;00m\n\u001b[0;32m    225\u001b[0m \u001b[39melse\u001b[39;00m:\n\u001b[0;32m    226\u001b[0m     \u001b[39m# uses the energy of the previous iteration oldE\u001b[39;00m\n\u001b[0;32m    227\u001b[0m     \u001b[39m# for the state update\u001b[39;00m\n\u001b[1;32m--> 228\u001b[0m     UpdateState(oldE, grid)\n\u001b[0;32m    229\u001b[0m     \u001b[39m# assigns a copy of the accepted energy to oldE for the\u001b[39;00m\n\u001b[0;32m    230\u001b[0m     \u001b[39m# next iteration of the for loop where it will be used\u001b[39;00m\n\u001b[0;32m    231\u001b[0m     \u001b[39m# as the previous energy\u001b[39;00m\n\u001b[0;32m    232\u001b[0m     oldE \u001b[39m=\u001b[39m copy\u001b[39m.\u001b[39mdeepcopy(accepted_energy)\n",
      "Cell \u001b[1;32mIn [5], line 104\u001b[0m, in \u001b[0;36mUpdateState\u001b[1;34m(old_energy, grid)\u001b[0m\n\u001b[0;32m    102\u001b[0m \u001b[39m# position of random electron flipped\u001b[39;00m\n\u001b[0;32m    103\u001b[0m randx \u001b[39m=\u001b[39m np\u001b[39m.\u001b[39mrandom\u001b[39m.\u001b[39mrandint(low\u001b[39m=\u001b[39m\u001b[39m0\u001b[39m, high\u001b[39m=\u001b[39mx)\n\u001b[1;32m--> 104\u001b[0m randy \u001b[39m=\u001b[39m np\u001b[39m.\u001b[39mrandom\u001b[39m.\u001b[39mrandint(low\u001b[39m=\u001b[39m\u001b[39m0\u001b[39m, high\u001b[39m=\u001b[39my)\n\u001b[0;32m    106\u001b[0m \u001b[39m# calculates the energy of the new configuration\u001b[39;00m\n\u001b[0;32m    107\u001b[0m newE \u001b[39m=\u001b[39m Hprime(randx, randy, old_energy, grid)\n",
      "\u001b[1;31mKeyboardInterrupt\u001b[0m: "
     ]
    }
   ],
   "source": [
    "# Generate Deliverable 1 here: Plot of M vs T\n",
    "# the list of temperatures to be tested\n",
    "T_arr = [0.01, 0.1, 1, 2, 3, 4, 5, 10, 100]\n",
    "\n",
    "# uses map() function to map T_arr and number of iterations to mxM()\n",
    "M_arr = list(map(maxM, [5] * len(T_arr), T_arr))\n",
    "\n",
    "# plots M vs T for T_arr\n",
    "plt.figure(1)\n",
    "plt.plot(T_arr, M_arr)\n",
    "# makes the x axis log scale\n",
    "plt.xscale('log')\n",
    "# labels the x and y axis appropriately\n",
    "plt.xlabel('Temperature (K)')\n",
    "plt.ylabel('Average Magnetic Moment (J/T)')\n",
    "\n",
    "# calculates and prints the estimated Curie temperature\n",
    "Tc = 1.8\n",
    "print(\"The estimated Curie temperature for this ferromagnetic system is: {} K\".\n",
    "      format(Tc))"
   ]
  },
  {
   "cell_type": "code",
   "execution_count": 5,
   "metadata": {
    "collapsed": false,
    "deletable": false,
    "nbgrader": {
     "cell_type": "code",
     "checksum": "ba3ab25de267a98832a98cf43b348221",
     "grade": true,
     "grade_id": "cell-project3-3",
     "locked": false,
     "points": 0,
     "schema_version": 3,
     "solution": true,
     "task": false
    }
   },
   "outputs": [
    {
     "data": {
      "text/html": [
       "<video controls> <source src=\"ferro0.1.webm\" type=\"video/webm\"> </video>"
      ],
      "text/plain": [
       "<IPython.core.display.HTML object>"
      ]
     },
     "execution_count": 5,
     "metadata": {},
     "output_type": "execute_result"
    }
   ],
   "source": [
    "# Generate Deliverable 2.1 here: Animation for T = 0.1\n",
    "# runs the predefined animation function to save an animated video\n",
    "Animation(0.1, 'ferro0.1', 200, 600000)\n",
    "# Link the video into the notebook\n",
    "HTML(\n",
    "    '<video controls> <source src=\"ferro0.1.webm\" type=\"video/webm\"> </video>')"
   ]
  },
  {
   "cell_type": "code",
   "execution_count": 6,
   "metadata": {
    "collapsed": false,
    "deletable": false,
    "nbgrader": {
     "cell_type": "code",
     "checksum": "5ee7f75c2fc9fcf263cb069cffc3d6a7",
     "grade": true,
     "grade_id": "cell-project3-4",
     "locked": false,
     "points": 0,
     "schema_version": 3,
     "solution": true,
     "task": false
    }
   },
   "outputs": [
    {
     "data": {
      "text/html": [
       "<video controls> <source src=\"ferro2.5.webm\" type=\"video/webm\"> </video>"
      ],
      "text/plain": [
       "<IPython.core.display.HTML object>"
      ]
     },
     "execution_count": 6,
     "metadata": {},
     "output_type": "execute_result"
    }
   ],
   "source": [
    "# Generate Deliverable 2.2 here: Animation for T = 2.5\n",
    "# runs the predefined animation function to save an animated video\n",
    "Animation(2.5, 'ferro2.5', 200, 600000)\n",
    "# Link the video into the notebook\n",
    "HTML(\n",
    "    '<video controls> <source src=\"ferro2.5.webm\" type=\"video/webm\"> </video>')"
   ]
  },
  {
   "cell_type": "code",
   "execution_count": 7,
   "metadata": {
    "collapsed": false,
    "deletable": false,
    "nbgrader": {
     "cell_type": "code",
     "checksum": "378bc53b7b79944e9c8fe10dcdfab7e1",
     "grade": true,
     "grade_id": "cell-project3-5",
     "locked": false,
     "points": 0,
     "schema_version": 3,
     "solution": true,
     "task": false
    }
   },
   "outputs": [
    {
     "data": {
      "text/html": [
       "<video controls> <source src=\"ferro100.webm\" type=\"video/webm\"> </video>"
      ],
      "text/plain": [
       "<IPython.core.display.HTML object>"
      ]
     },
     "execution_count": 7,
     "metadata": {},
     "output_type": "execute_result"
    }
   ],
   "source": [
    "# Generate Deliverable 2.2 here: Animation for T = 2.5\n",
    "# runs the predefined animation function to save an animated video\n",
    "Animation(100, 'ferro100', 200, 600000)\n",
    "# Link the video into the notebook\n",
    "HTML(\n",
    "    '<video controls> <source src=\"ferro100.webm\" type=\"video/webm\"> </video>')"
   ]
  },
  {
   "cell_type": "markdown",
   "metadata": {
    "collapsed": false,
    "deletable": false,
    "editable": false,
    "nbgrader": {
     "grade": false,
     "grade_id": "cf5dfa",
     "locked": true,
     "schema_version": 3,
     "solution": false,
     "task": false
    }
   },
   "source": [
    "# Acknowledgements\n",
    "\n",
    "In the cell below, please describe the role of **anyone other than yourself** who contributed to the work shown in this notebook.\n",
    "\n",
    "Its ok to get help from us and classmates! Please get in the habit of acknowledging such contributions.\n",
    "\n",
    "If you want to refer to a classmate, please use only their cocalc email-id and not their name - or you could just say something like: \"a classmate gave me the idea to use xxx feature to solve yyy problem.\"\n"
   ]
  },
  {
   "cell_type": "markdown",
   "metadata": {
    "collapsed": false
   },
   "source": [
    "_Acknowledgements here:_ Matplotlib documentation was heavily utilized in the creation of the 3d animation for the extension.\n"
   ]
  },
  {
   "cell_type": "markdown",
   "metadata": {
    "collapsed": false,
    "deletable": false,
    "editable": false,
    "nbgrader": {
     "grade": false,
     "grade_id": "5a51c40",
     "locked": true,
     "schema_version": 3,
     "solution": false,
     "task": false
    }
   },
   "source": [
    "# Extension Code and Description\n",
    "All solution code for the main project question should appear in the cell \"cell-project1-main\" above. Project extensions go in the cell \"cell-extension\" immediately below and the descriptions of your extension go in the cell below that."
   ]
  },
  {
   "cell_type": "code",
   "execution_count": 3,
   "metadata": {
    "collapsed": false,
    "deletable": false,
    "nbgrader": {
     "cell_type": "code",
     "checksum": "887dd39afb49072de92ec16acce3a808",
     "grade": true,
     "grade_id": "cell-extension",
     "locked": false,
     "points": 3,
     "schema_version": 3,
     "solution": true,
     "task": false
    }
   },
   "outputs": [],
   "source": [
    "# OPTIONAL project extension here\n",
    "import numpy as np\n",
    "import matplotlib.pyplot as plt\n",
    "import matplotlib.animation as animation\n",
    "from IPython.display import HTML\n",
    "import copy\n",
    "\n",
    "\n",
    "def interaction3d(i, j, k, voxel):\n",
    "    \"\"\"This function calculates the spin-spin interactions of one electron\n",
    "    and its non-diagonal neighbours.\n",
    "\n",
    "    i: x position of electron in voxel.\n",
    "    j: y position of electron in voxel.\n",
    "    k: z position of electron in voxel.\n",
    "    voxel: the 3D model of electrons.\n",
    "\n",
    "    returns the value of the spin interactions.\"\"\"\n",
    "\n",
    "    # calculates the value of these interactions based on the provided formula\n",
    "    interacval = voxel[k, j, i] * (\n",
    "        voxel[k, j, i - 1] + voxel[k, j, (i + 1) % x] + voxel[k, j - 1, i] +\n",
    "        voxel[k,\n",
    "              (j + 1) % y, i] + voxel[k - 1, j, i] + voxel[(k + 1) % z, j, i])\n",
    "    return interacval  # returns the value of spin interactions\n",
    "\n",
    "\n",
    "def initial_H3d(voxel):\n",
    "    \"\"\"This function calculates the initial energy of\n",
    "    the electron voxel model.\n",
    "\n",
    "    voxel: the 3D model of electrons.\n",
    "\n",
    "    returns the energy of the voxel of electrons.\"\"\"\n",
    "\n",
    "    J = 1  # magnitude of spin-spin interaction\n",
    "    # defining total energy variable out of loop\n",
    "    total = 0\n",
    "    for k in range(z):\n",
    "        for j in range(y):\n",
    "            for i in range(x):\n",
    "                # adds the interactions of electrons in voxel\n",
    "                total += interaction3d(i, j, k, voxel)\n",
    "    return -J / 2 * total  # returns the energy of the voxel\n",
    "\n",
    "\n",
    "def Hprime3d(iflip, jflip, kflip, old_energy, voxel):\n",
    "    \"\"\"This function calculates the energy of a new\n",
    "    configuration resulting in the flipping of an\n",
    "    electron's spin at a specified position in the\n",
    "    10x10x10 voxel. This calculation is based on the\n",
    "    previous configurations energy and the properties\n",
    "    of the summation formula for calculating the energy\n",
    "    of the overall system.\n",
    "\n",
    "    iflip: the x position of electron to be flipped.\n",
    "    jflip: the y position of electron to be flipped.\n",
    "    kflip: the z position of electron to be flipped.\n",
    "    old_energy: the energy of the previous configuration.\n",
    "    voxel: the voxel model of electrons.\n",
    "\n",
    "    returns the energy of the new (tentative) configuration.\"\"\"\n",
    "\n",
    "    J = 1  # magnitude of spin-spin interaction\n",
    "    # calculates the energy of new configuration\n",
    "    # this calculation has been simplified by algebra\n",
    "    newE = old_energy + 2 * J * interaction3d(iflip, jflip, kflip, voxel)\n",
    "    return newE  # returns energy of new configuration\n",
    "\n",
    "\n",
    "def Pkeep(new_energy, old_energy):\n",
    "    \"\"\"This function calculates the probability that a new\n",
    "    configuration is kept in the case this new configuration\n",
    "    has higher energy than the origional.\n",
    "\n",
    "    new_energy: the energy of the new configuration.\n",
    "    old_energy: the energy of the previous configuration.\n",
    "\n",
    "    returns the probability of keeping the new configuratrion.\"\"\"\n",
    "\n",
    "    # calculates and returns the probability of keeping new config\n",
    "    return np.e**(-(new_energy - old_energy) / T)\n",
    "\n",
    "\n",
    "def UpdateState3d(old_energy, voxel):\n",
    "    \"\"\"This function randomly chooses an electron in the\n",
    "    10x10x10 voxel to be flipped. It then calculates if this\n",
    "    energy if lower or higher, and if it is lower this\n",
    "    new energy is stored into the global variable\n",
    "    accepted_energy. If the new energy is higher, the new\n",
    "    configuration will be kept or discarded based on a\n",
    "    probablity dependent on the temperature of the system\n",
    "    and the difference in energy between the 2 configurations.\n",
    "\n",
    "    old_energy: the energy of the previous configuration.\n",
    "    voxel: the voxel model of electrons.\n",
    "\n",
    "    returns nothing.\"\"\"\n",
    "\n",
    "    # referances the global variable accepted_energy\n",
    "    global accepted_energy\n",
    "\n",
    "    # position of random electron flipped\n",
    "    randx = np.random.randint(low=0, high=x)\n",
    "    randy = np.random.randint(low=0, high=y)\n",
    "    randz = np.random.randint(low=0, high=z)\n",
    "\n",
    "    # calculates the energy of the new configuration\n",
    "    newE = Hprime3d(randx, randy, randz, old_energy, voxel)\n",
    "\n",
    "    # if the new configuration has lower energy\n",
    "    if newE <= old_energy:\n",
    "        # modify voxel in place to accept change\n",
    "        voxel[randz, randy, randx] *= -1\n",
    "        # accepted energy becomes a copy of newE\n",
    "        accepted_energy = copy.deepcopy(newE)\n",
    "    else:  # if the new configuration has higher energy\n",
    "        # if by chance the configuration is accpeted\n",
    "        if np.random.random() <= Pkeep(newE, old_energy):\n",
    "            # modify voxel in place to accept change\n",
    "            voxel[randz, randy, randx] *= -1\n",
    "            # accepted energy becomes a copy of newE\n",
    "            accepted_energy = copy.deepcopy(newE)\n",
    "        # if by chance the configuration is rejected\n",
    "        else:\n",
    "            # accepted energy is the energy of old config\n",
    "            accepted_energy = copy.deepcopy(old_energy)\n",
    "\n",
    "\n",
    "def GetFrames3d(temperature, stepcount, framecount):\n",
    "    \"\"\"This function simulates the ferromagnetic system\n",
    "    over a specified number of steps at a given temperature\n",
    "    while storing frames for later animation.\n",
    "\n",
    "    temperature: the temperature to simulate the syystem at.\n",
    "    stepcount: the number of iterations in the simulation.\n",
    "    framecount: the number of frames in the animation.\n",
    "\n",
    "    returns the list of images to be animated.\"\"\"\n",
    "\n",
    "    # makes a 10x10x10 voxel of electrons with random state -1 or 1\n",
    "    # defines x, y and z as global variables as they will be used\n",
    "    # in other functions\n",
    "    global x\n",
    "    global y\n",
    "    global z\n",
    "    x = 13  # width of voxel\n",
    "    y = 13  # height of voxel\n",
    "    z = 13  # depth of voxel\n",
    "\n",
    "    # creates a grid of random 0s and 1s with dimensions x by y by z\n",
    "    voxel = np.random.randint(low=0, high=2, size=(x, y, z))\n",
    "    # converts all 0s to -1s\n",
    "    voxel[voxel < 1] = -1\n",
    "    # references global variable T as it is used is other functions\n",
    "    global T\n",
    "    T = temperature  # temperature\n",
    "    steps = stepcount  # number of iterations\n",
    "    frames = framecount  # number of frames for the animation\n",
    "    finterval = int(steps / frames)  # number of steps between rendered frames\n",
    "    ims = []\n",
    "\n",
    "    startE = initial_H3d(voxel)\n",
    "\n",
    "    for n in range(steps):\n",
    "        if n == 0:  # checks if it is loops first run\n",
    "            # uses starting energy as previous energy for state update\n",
    "            UpdateState3d(startE, voxel)\n",
    "            # assigns a copy of the accepted energy to oldE for the\n",
    "            # next iteration of the for loop where it will be used\n",
    "            # as the previous energy\n",
    "            oldE = copy.deepcopy(accepted_energy)\n",
    "        else:\n",
    "            # uses the energy of the previous iteration oldE\n",
    "            # for the state update\n",
    "            UpdateState3d(oldE, voxel)\n",
    "            # assigns a copy of the accepted energy to oldE for the\n",
    "            # next iteration of the for loop where it will be used\n",
    "            # as the previous energy\n",
    "            oldE = copy.deepcopy(accepted_energy)\n",
    "\n",
    "        # checks if this interval should be a frame in the animation\n",
    "        if n % finterval == 0:\n",
    "            # each electron state voxel added to ims\n",
    "            statearr = voxel\n",
    "            voxelarr = (statearr == 1)\n",
    "            ims.append(voxelarr)\n",
    "    return ims  # returns the list of electron states to be animated\n",
    "\n",
    "\n",
    "def Animation3d(name, temperature, stepcount, framecount):\n",
    "    \"\"\"This function creates a 3 dimensional animation simulating\n",
    "    a ferromagnetic system. Electrons with spin=1 are displayed in\n",
    "    coloured cubes while electrons with spin=-1 are transparent.\n",
    "\n",
    "    name: the name of the file to be saved to the drive.\n",
    "    temperature: the temperature to simulate the syystem at.\n",
    "    stepcount: the number of iterations in the simulation.\n",
    "    framecount: the number of frames in the animation.\n",
    "\n",
    "    \"\"\"\n",
    "\n",
    "    # runs the GetFrames3d() function at the specified temperature, stepcount,\n",
    "    # and framecount to obtain the frames to be stored in ims for animation\n",
    "    ims = GetFrames3d(temperature=temperature,\n",
    "                      stepcount=stepcount,\n",
    "                      framecount=framecount)\n",
    "\n",
    "    # creates a new figure\n",
    "    fig = plt.figure()\n",
    "    # projects figure into 3D\n",
    "    ax = plt.axes(projection='3d')\n",
    "\n",
    "    # code for colouring voxels\n",
    "    r, g, b = np.indices((x + 1, y + 1, z + 1)) / (x - 1)\n",
    "\n",
    "    # code for colouring voxels\n",
    "    def midpoints(x):\n",
    "\n",
    "        sl = ()\n",
    "        for i in range(x.ndim):\n",
    "            x = (x[sl + np.index_exp[:-1]] + x[sl + np.index_exp[1:]]) / 2\n",
    "            sl += np.index_exp[:]\n",
    "        return x\n",
    "\n",
    "    # code for colouring voxels\n",
    "    rc = midpoints(r)\n",
    "    gc = midpoints(g)\n",
    "    bc = midpoints(b)\n",
    "\n",
    "    # code for colouring voxels\n",
    "    colors = np.zeros(ims[0].shape + (3, ))\n",
    "    colors[..., 0] = rc / 1.5 + 0.15\n",
    "    colors[..., 1] = gc / 4 + 0.1\n",
    "    colors[..., 2] = bc / 1.5 + 0.15\n",
    "\n",
    "    def frame(i):\n",
    "        \"\"\"Function to be used in FuncAnimation\n",
    "\n",
    "        returns the figure for the corresponding electron\n",
    "        state stored in the list ims\"\"\"\n",
    "\n",
    "        ax.clear()\n",
    "\n",
    "        voxelarr = ims[i]\n",
    "\n",
    "        ax.voxels(voxelarr, facecolors=colors, edgecolor='k', linewidth=0.1)\n",
    "        return fig\n",
    "\n",
    "    # Animate the frames stored in ims\n",
    "    ani3d = animation.FuncAnimation(fig,\n",
    "                                    frame,\n",
    "                                    frames=framecount,\n",
    "                                    blit=False,\n",
    "                                    interval=90)\n",
    "    # Save to a file: which can be viewed from outside or within the notebook\n",
    "    ani3d.save(\"{}.webm\".format(name), extra_args=['-vcodec', 'libvpx'])\n",
    "    plt.close()"
   ]
  },
  {
   "cell_type": "code",
   "execution_count": 4,
   "metadata": {},
   "outputs": [
    {
     "data": {
      "text/html": [
       "<video controls> <source src=\"ferro0.1 3d.webm\" type=\"video/webm\"> </video>"
      ],
      "text/plain": [
       "<IPython.core.display.HTML object>"
      ]
     },
     "execution_count": 4,
     "metadata": {},
     "output_type": "execute_result"
    }
   ],
   "source": [
    "temperature = 0.1\n",
    "stepcount = 75000\n",
    "framecount = 60\n",
    "\n",
    "Animation3d('ferro0.1 3d', temperature, stepcount, framecount)\n",
    "\n",
    "HTML(\n",
    "    '<video controls> <source src=\"ferro0.1 3d.webm\" type=\"video/webm\"> </video>')"
   ]
  },
  {
   "cell_type": "markdown",
   "metadata": {
    "collapsed": false
   },
   "source": [
    "_In this cell, please describe any new language features or project extension you have implemented:_ My extension is essentially the expansion of the 2 dimensional system from the main project into 3 dimensions. I implemented the use of a 3 dimentional plotting function within matplotlib called voxels which I used to model a 3 dimensional electron lattice. I also utilized FuncAnimation which allowed me to model the evolution of this system with time assuming it followed similar laws as the main project's 2D system. In my main project I also utilized a map function to map the temperature values into my GenEndState function.\n",
    "\n"
   ]
  },
  {
   "cell_type": "markdown",
   "metadata": {
    "collapsed": false,
    "deletable": false,
    "editable": false,
    "nbgrader": {
     "grade": false,
     "grade_id": "grading-header",
     "locked": true,
     "schema_version": 3,
     "solution": false,
     "task": false
    }
   },
   "source": [
    "# Grading cells\n",
    "The cells below marked as \"grade use only\" are created as placeholders so that we can provide a manual grade and comments for each category. \n",
    "\n",
    "Exceptions are the \"2. Style\" test, which has an associated autograder test that you can run to check style and the timing cell \"cell-optimization0\", which you can use to test your code execution time."
   ]
  },
  {
   "cell_type": "code",
   "execution_count": 10,
   "metadata": {
    "collapsed": false,
    "deletable": false,
    "nbgrader": {
     "cell_type": "code",
     "checksum": "5fddc8dcc07404068c6f34898e8762c9",
     "grade": true,
     "grade_id": "cell-executes",
     "locked": false,
     "points": 20,
     "schema_version": 3,
     "solution": true,
     "task": false
    }
   },
   "outputs": [],
   "source": [
    "# 1. Code execution (grader use only)"
   ]
  },
  {
   "cell_type": "code",
   "execution_count": 11,
   "metadata": {
    "collapsed": false,
    "deletable": false,
    "editable": false,
    "nbgrader": {
     "grade": true,
     "grade_id": "cell-style",
     "locked": true,
     "points": 5,
     "schema_version": 3,
     "solution": false,
     "task": false
    }
   },
   "outputs": [
    {
     "name": "stdout",
     "output_type": "stream",
     "text": [
      "checking cell: cell-project3-1\n",
      "checking cell: cell-project3-2\n",
      "checking cell: cell-project3-3\n",
      "checking cell: cell-project3-4\n",
      "checking cell: cell-project3-5\n"
     ]
    }
   ],
   "source": [
    "# 2. Style: pep8 (see note below regarding use of the Format button to fix many errors)\n",
    "#\n",
    "# Tests for pep8 returns warnings or errors. You may need to hit 'Save' after making changes for them to take effect.\n",
    "nb_name = \"project03.ipynb\"\n",
    "cells_to_check = []\n",
    "stop_at = ['cell-extension']\n",
    "# check_style2.py uses cells_to_check and nb_name\n",
    "%run -i check_style2.py"
   ]
  },
  {
   "cell_type": "markdown",
   "metadata": {
    "collapsed": false,
    "deletable": false,
    "editable": false,
    "nbgrader": {
     "grade": false,
     "grade_id": "87d438",
     "locked": true,
     "schema_version": 3,
     "solution": false,
     "task": false
    }
   },
   "source": [
    "Also note that you can use the Format button while in a code cell to automagically fix most pep8 errors (other than way too long print statements)\n",
    "\n",
    "![](project02-format.png)"
   ]
  },
  {
   "cell_type": "code",
   "execution_count": 12,
   "metadata": {
    "collapsed": false,
    "deletable": false,
    "nbgrader": {
     "cell_type": "code",
     "checksum": "0bfba331bdaa16e3e38c7f315efdff77",
     "grade": true,
     "grade_id": "cell-results",
     "locked": false,
     "points": 25,
     "schema_version": 3,
     "solution": true,
     "task": false
    }
   },
   "outputs": [],
   "source": [
    "# 3. Results (grader use only)"
   ]
  },
  {
   "cell_type": "code",
   "execution_count": 13,
   "metadata": {
    "collapsed": false,
    "deletable": false,
    "nbgrader": {
     "cell_type": "code",
     "checksum": "f39a7cf08454b2b3946e33e39f851429",
     "grade": true,
     "grade_id": "cell-readability",
     "locked": false,
     "points": 30,
     "schema_version": 3,
     "solution": true,
     "task": false
    }
   },
   "outputs": [],
   "source": [
    "# 4. Readability (grader use only)\n"
   ]
  },
  {
   "cell_type": "code",
   "execution_count": 14,
   "metadata": {
    "collapsed": false,
    "deletable": false,
    "nbgrader": {
     "cell_type": "code",
     "checksum": "5f88731ac323e35ec9219653b4ac085b",
     "grade": true,
     "grade_id": "cell-plots",
     "locked": false,
     "points": 15,
     "schema_version": 3,
     "solution": true,
     "task": false
    }
   },
   "outputs": [],
   "source": [
    "# 5. Plot (grader use only)"
   ]
  },
  {
   "cell_type": "code",
   "execution_count": 15,
   "metadata": {
    "collapsed": false,
    "deletable": false,
    "editable": false,
    "nbgrader": {
     "grade": true,
     "grade_id": "cell-optimization0",
     "locked": true,
     "points": 0,
     "schema_version": 3,
     "solution": false,
     "task": false
    }
   },
   "outputs": [
    {
     "name": "stdout",
     "output_type": "stream",
     "text": [
      "Time for cell: cell-project3-1 time: 0.02\n"
     ]
    },
    {
     "ename": "KeyboardInterrupt",
     "evalue": "",
     "output_type": "error",
     "traceback": [
      "\u001b[1;31m---------------------------------------------------------------------------\u001b[0m",
      "\u001b[1;31mKeyboardInterrupt\u001b[0m                         Traceback (most recent call last)",
      "Cell \u001b[1;32mIn [15], line 6\u001b[0m\n\u001b[0;32m      3\u001b[0m T_arr \u001b[39m=\u001b[39m [\u001b[39m0.01\u001b[39m, \u001b[39m0.1\u001b[39m, \u001b[39m1\u001b[39m, \u001b[39m2\u001b[39m, \u001b[39m3\u001b[39m, \u001b[39m4\u001b[39m, \u001b[39m5\u001b[39m, \u001b[39m10\u001b[39m, \u001b[39m100\u001b[39m]\n\u001b[0;32m      5\u001b[0m \u001b[39m# uses map() function to map T_arr and number of iterations to mxM()\u001b[39;00m\n\u001b[1;32m----> 6\u001b[0m M_arr \u001b[39m=\u001b[39m \u001b[39mlist\u001b[39;49m(\u001b[39mmap\u001b[39;49m(maxM, [\u001b[39m5\u001b[39;49m] \u001b[39m*\u001b[39;49m \u001b[39mlen\u001b[39;49m(T_arr), T_arr))\n\u001b[0;32m      8\u001b[0m \u001b[39m# plots M vs T for T_arr\u001b[39;00m\n\u001b[0;32m      9\u001b[0m plt\u001b[39m.\u001b[39mfigure(\u001b[39m1\u001b[39m)\n",
      "Cell \u001b[1;32mIn [15], line 308\u001b[0m, in \u001b[0;36mmaxM\u001b[1;34m(n, temp)\u001b[0m\n\u001b[0;32m    305\u001b[0m arr \u001b[39m=\u001b[39m np\u001b[39m.\u001b[39marray([])  \u001b[39m# defines an empty array outside of for loop\u001b[39;00m\n\u001b[0;32m    306\u001b[0m \u001b[39mfor\u001b[39;00m i \u001b[39min\u001b[39;00m \u001b[39mrange\u001b[39m(n):  \u001b[39m# loops n times\u001b[39;00m\n\u001b[0;32m    307\u001b[0m     \u001b[39m# appends calculated M value to array arr\u001b[39;00m\n\u001b[1;32m--> 308\u001b[0m     arr \u001b[39m=\u001b[39m np\u001b[39m.\u001b[39mappend(arr, getM(temp))\n\u001b[0;32m    309\u001b[0m arr \u001b[39m=\u001b[39m np\u001b[39m.\u001b[39mabs(arr)  \u001b[39m# converts the array arr to absolute value\u001b[39;00m\n\u001b[0;32m    310\u001b[0m \u001b[39mreturn\u001b[39;00m np\u001b[39m.\u001b[39mmax(arr)\n",
      "Cell \u001b[1;32mIn [15], line 288\u001b[0m, in \u001b[0;36mgetM\u001b[1;34m(temp)\u001b[0m\n\u001b[0;32m    285\u001b[0m mewb \u001b[39m=\u001b[39m \u001b[39m1\u001b[39m  \u001b[39m# the magnetic moment of an electron used for this project\u001b[39;00m\n\u001b[0;32m    286\u001b[0m \u001b[39m# calculates the final grid of electrons after 600,000 iterations\u001b[39;00m\n\u001b[0;32m    287\u001b[0m \u001b[39m# this is called the \"end state\" throuhout this project\u001b[39;00m\n\u001b[1;32m--> 288\u001b[0m endstate \u001b[39m=\u001b[39m GenEndState(temp, \u001b[39m600000\u001b[39;49m)\n\u001b[0;32m    289\u001b[0m endsum \u001b[39m=\u001b[39m np\u001b[39m.\u001b[39msum(endstate)  \u001b[39m# sums the spins of electrons in grid\u001b[39;00m\n\u001b[0;32m    290\u001b[0m M \u001b[39m=\u001b[39m endsum \u001b[39m/\u001b[39m (x \u001b[39m*\u001b[39m y) \u001b[39m*\u001b[39m mewb  \u001b[39m# calculates average magnetic moment\u001b[39;00m\n",
      "Cell \u001b[1;32mIn [15], line 228\u001b[0m, in \u001b[0;36mGenEndState\u001b[1;34m(temperature, stepcount)\u001b[0m\n\u001b[0;32m    224\u001b[0m     \u001b[39mreturn\u001b[39;00m endstate  \u001b[39m# returns the final state of system\u001b[39;00m\n\u001b[0;32m    225\u001b[0m \u001b[39melse\u001b[39;00m:\n\u001b[0;32m    226\u001b[0m     \u001b[39m# uses the energy of the previous iteration oldE\u001b[39;00m\n\u001b[0;32m    227\u001b[0m     \u001b[39m# for the state update\u001b[39;00m\n\u001b[1;32m--> 228\u001b[0m     UpdateState(oldE, grid)\n\u001b[0;32m    229\u001b[0m     \u001b[39m# assigns a copy of the accepted energy to oldE for the\u001b[39;00m\n\u001b[0;32m    230\u001b[0m     \u001b[39m# next iteration of the for loop where it will be used\u001b[39;00m\n\u001b[0;32m    231\u001b[0m     \u001b[39m# as the previous energy\u001b[39;00m\n\u001b[0;32m    232\u001b[0m     oldE \u001b[39m=\u001b[39m copy\u001b[39m.\u001b[39mdeepcopy(accepted_energy)\n",
      "Cell \u001b[1;32mIn [15], line 107\u001b[0m, in \u001b[0;36mUpdateState\u001b[1;34m(old_energy, grid)\u001b[0m\n\u001b[0;32m    104\u001b[0m randy \u001b[39m=\u001b[39m np\u001b[39m.\u001b[39mrandom\u001b[39m.\u001b[39mrandint(low\u001b[39m=\u001b[39m\u001b[39m0\u001b[39m, high\u001b[39m=\u001b[39my)\n\u001b[0;32m    106\u001b[0m \u001b[39m# calculates the energy of the new configuration\u001b[39;00m\n\u001b[1;32m--> 107\u001b[0m newE \u001b[39m=\u001b[39m Hprime(randx, randy, old_energy, grid)\n\u001b[0;32m    109\u001b[0m \u001b[39m# if the new configuration has lower energy\u001b[39;00m\n\u001b[0;32m    110\u001b[0m \u001b[39mif\u001b[39;00m newE \u001b[39m<\u001b[39m\u001b[39m=\u001b[39m old_energy:\n\u001b[0;32m    111\u001b[0m     \u001b[39m# modify grid in place to accept change\u001b[39;00m\n",
      "Cell \u001b[1;32mIn [15], line 66\u001b[0m, in \u001b[0;36mHprime\u001b[1;34m(iflip, jflip, old_energy, grid)\u001b[0m\n\u001b[0;32m     63\u001b[0m J \u001b[39m=\u001b[39m \u001b[39m1\u001b[39m  \u001b[39m# magnitude of spin-spin interaction\u001b[39;00m\n\u001b[0;32m     64\u001b[0m \u001b[39m# calculates the energy of new configuration\u001b[39;00m\n\u001b[0;32m     65\u001b[0m \u001b[39m# this calculation has been simplified algebraically\u001b[39;00m\n\u001b[1;32m---> 66\u001b[0m newE \u001b[39m=\u001b[39m old_energy \u001b[39m+\u001b[39;49m \u001b[39m2\u001b[39;49m \u001b[39m*\u001b[39;49m J \u001b[39m*\u001b[39;49m interaction(iflip, jflip, grid)\n\u001b[0;32m     67\u001b[0m \u001b[39mreturn\u001b[39;00m newE\n",
      "\u001b[1;31mKeyboardInterrupt\u001b[0m: "
     ]
    },
    {
     "name": "stdout",
     "output_type": "stream",
     "text": [
      "Time for cell: cell-project3-2 time: 54.64\n"
     ]
    },
    {
     "data": {
      "text/html": [
       "<video controls> <source src=\"ferro0.1.webm\" type=\"video/webm\"> </video>"
      ],
      "text/plain": [
       "<IPython.core.display.HTML object>"
      ]
     },
     "execution_count": 15,
     "metadata": {},
     "output_type": "execute_result"
    },
    {
     "name": "stdout",
     "output_type": "stream",
     "text": [
      "Time for cell: cell-project3-3 time: 10.70\n"
     ]
    },
    {
     "data": {
      "text/html": [
       "<video controls> <source src=\"ferro2.5.webm\" type=\"video/webm\"> </video>"
      ],
      "text/plain": [
       "<IPython.core.display.HTML object>"
      ]
     },
     "execution_count": 15,
     "metadata": {},
     "output_type": "execute_result"
    },
    {
     "name": "stdout",
     "output_type": "stream",
     "text": [
      "Time for cell: cell-project3-4 time: 10.66\n"
     ]
    },
    {
     "data": {
      "text/html": [
       "<video controls> <source src=\"ferro100.webm\" type=\"video/webm\"> </video>"
      ],
      "text/plain": [
       "<IPython.core.display.HTML object>"
      ]
     },
     "execution_count": 15,
     "metadata": {},
     "output_type": "execute_result"
    },
    {
     "name": "stdout",
     "output_type": "stream",
     "text": [
      "Time for cell: cell-project3-5 time: 10.55\n",
      "Total time: 86.56\n"
     ]
    }
   ],
   "source": [
    "# Check execution time\n",
    "nb_name = \"project03.ipynb\"\n",
    "cells_to_time = []\n",
    "stop_at = ['cell-extension']\n",
    "%run -i time_cells2.py"
   ]
  },
  {
   "cell_type": "code",
   "execution_count": null,
   "metadata": {
    "collapsed": false,
    "deletable": false,
    "nbgrader": {
     "cell_type": "code",
     "checksum": "a8a3076187fd64d1224573d70288d2a0",
     "grade": true,
     "grade_id": "cell-optimization1",
     "locked": false,
     "points": 5,
     "schema_version": 3,
     "solution": true,
     "task": false
    }
   },
   "outputs": [],
   "source": [
    "# 5. Code optimization/timing (grader use only)\n"
   ]
  },
  {
   "cell_type": "code",
   "execution_count": null,
   "metadata": {
    "collapsed": false,
    "deletable": false,
    "nbgrader": {
     "cell_type": "code",
     "checksum": "f3bfbc592099991ad62d237a378affe1",
     "grade": true,
     "grade_id": "cell-new_features",
     "locked": false,
     "points": 2,
     "schema_version": 3,
     "solution": true,
     "task": false
    }
   },
   "outputs": [],
   "source": [
    "# B2. New Functionality/Language features (grader use only)"
   ]
  }
 ],
 "metadata": {
  "celltoolbar": "Create Assignment",
  "kernelspec": {
   "display_name": "Python 3.9.12 ('base')",
   "language": "python",
   "name": "python3"
  },
  "language_info": {
   "codemirror_mode": {
    "name": "ipython",
    "version": 3
   },
   "file_extension": ".py",
   "mimetype": "text/x-python",
   "name": "python",
   "nbconvert_exporter": "python",
   "pygments_lexer": "ipython3",
   "version": "3.9.12"
  },
  "nbgrader": {
   "__altered": false,
   "__hash": -404592343,
   "_root": {
    "entries": [
     [
      "__altered",
      false
     ],
     [
      "__hash",
      -679907196
     ],
     [
      "_root",
      {
       "entries": [
        [
         "__altered",
         false
        ],
        [
         "__hash",
         -651869538
        ],
        [
         "_root",
         {
          "entries": [
           [
            "size",
            6
           ],
           [
            "_root",
            {
             "entries": [
              [
               "size",
               5
              ],
              [
               "_root",
               {
                "entries": [
                 [
                  "__altered",
                  false
                 ],
                 [
                  "__hash",
                  -1072767477
                 ],
                 [
                  "_root",
                  {
                   "entries": [
                    [
                     "size",
                     6
                    ],
                    [
                     "_root",
                     {
                      "entries": [
                       [
                        "size",
                        1
                       ],
                       [
                        "_root",
                        {
                         "entries": [
                          [
                           "cocalc_minimal_stubs",
                           false
                          ]
                         ],
                         "ownerID": {}
                        }
                       ],
                       [
                        "__ownerID",
                        null
                       ],
                       [
                        "__hash",
                        -335098374
                       ],
                       [
                        "__altered",
                        false
                       ],
                       [
                        "cocalc_minimal_stubs",
                        false
                       ]
                      ],
                      "ownerID": {}
                     }
                    ],
                    [
                     "__hash",
                     -1062824929
                    ],
                    [
                     "__altered",
                     false
                    ],
                    [
                     "cocalc_minimal_stubs",
                     false
                    ]
                   ],
                   "ownerID": {}
                  }
                 ],
                 [
                  "cocalc_minimal_stubs",
                  false
                 ],
                 [
                  "size",
                  5
                 ]
                ],
                "ownerID": {}
               }
              ],
              [
               "__ownerID",
               null
              ],
              [
               "__hash",
               250283375
              ],
              [
               "__altered",
               false
              ],
              [
               "cocalc_minimal_stubs",
               false
              ]
             ],
             "ownerID": {}
            }
           ],
           [
            "__ownerID",
            null
           ],
           [
            "__hash",
            -24045107
           ],
           [
            "__altered",
            false
           ],
           [
            "cocalc_minimal_stubs",
            false
           ]
          ],
          "ownerID": {}
         }
        ],
        [
         "cocalc_minimal_stubs",
         false
        ],
        [
         "size",
         6
        ]
       ],
       "ownerID": {}
      }
     ],
     [
      "cocalc_minimal_stubs",
      false
     ],
     [
      "size",
      5
     ]
    ],
    "ownerID": {}
   },
   "cocalc_minimal_stubs": false,
   "size": 5
  },
  "vscode": {
   "interpreter": {
    "hash": "184032a9ebdd45a0d637f9e9f4bc982b0d9a91b85f3eaf82b19d5eeed2f2e47b"
   }
  }
 },
 "nbformat": 4,
 "nbformat_minor": 4
}
