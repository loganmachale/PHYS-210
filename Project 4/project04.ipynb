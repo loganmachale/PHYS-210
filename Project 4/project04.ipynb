{
 "cells": [
  {
   "cell_type": "markdown",
   "metadata": {
    "collapsed": false,
    "deletable": false,
    "editable": false,
    "nbgrader": {
     "grade": false,
     "grade_id": "0c2615",
     "locked": true,
     "schema_version": 3,
     "solution": false,
     "task": false
    }
   },
   "source": [
    "# PHYS 210 Mini-Project 04\n",
    "### Maxwell Boltzmann Distribution\n",
    "Due Wed, Nov 30, 2022 - 9am"
   ]
  },
  {
   "cell_type": "code",
   "execution_count": 1,
   "metadata": {
    "collapsed": false,
    "deletable": false,
    "nbgrader": {
     "cell_type": "code",
     "checksum": "514989720f51dab882bad6034aabe742",
     "grade": true,
     "grade_id": "cell-project4-1",
     "locked": false,
     "points": 0,
     "schema_version": 3,
     "solution": true,
     "task": false
    }
   },
   "outputs": [
    {
     "name": "stdout",
     "output_type": "stream",
     "text": [
      "50000000.0\n",
      "50000000.0\n",
      "50000000.0\n",
      "50000000.0\n",
      "50000000.0\n",
      "50000000.0\n",
      "50000000.0\n",
      "50000000.0\n",
      "50000000.0\n",
      "50000000.0\n",
      "50000000.0\n",
      "50000000.0\n",
      "50000000.0\n",
      "50000000.0\n",
      "50000000.0\n",
      "50000000.0\n",
      "50000000.0\n",
      "50000000.0\n",
      "50000000.0\n",
      "50000000.00000001\n",
      "50000000.0\n",
      "50044921.09626581\n",
      "50044921.09626581\n",
      "50044921.09626581\n",
      "50044921.09626581\n",
      "50044921.09626581\n",
      "50067665.74712819\n",
      "50067665.747128196\n",
      "50067665.747128196\n",
      "50067665.747128196\n",
      "50067665.747128196\n",
      "50067665.747128196\n",
      "50067665.74712819\n",
      "50067665.74712819\n",
      "50067665.74712819\n",
      "50067665.747128196\n",
      "50067665.747128196\n",
      "50067665.747128196\n",
      "50067665.74712819\n",
      "50067665.747128196\n",
      "50067665.74712819\n",
      "50067665.747128196\n",
      "50067665.747128196\n",
      "50067665.74712819\n",
      "50067665.74712819\n",
      "50067665.74712819\n",
      "50067665.747128196\n",
      "50067665.747128196\n",
      "50067665.747128196\n",
      "50067665.747128196\n",
      "50067665.747128196\n",
      "50067665.747128196\n",
      "50067665.747128196\n",
      "50067665.747128196\n",
      "50067665.747128196\n",
      "50067665.747128196\n",
      "50067665.74712819\n",
      "50067665.74712819\n",
      "50067665.74712819\n",
      "50067665.74712819\n",
      "50067665.74712819\n",
      "50067665.74712819\n",
      "50067665.74712819\n",
      "50067665.74712819\n",
      "50067665.747128196\n",
      "50067665.74712819\n",
      "50067665.74712819\n",
      "50067665.74712819\n",
      "50067665.74712819\n",
      "50067665.747128196\n",
      "50067665.74712819\n",
      "50067665.74712819\n",
      "50067665.74712819\n",
      "50067665.747128196\n",
      "50067665.74712819\n",
      "50067665.74712819\n",
      "50067665.74712819\n",
      "50067665.74712819\n",
      "50067665.747128196\n",
      "50067665.747128196\n",
      "50067665.747128196\n",
      "50067665.747128196\n",
      "50067665.747128196\n",
      "50067665.747128196\n",
      "50067665.747128196\n",
      "50067665.74712819\n",
      "50067665.74712819\n",
      "50067665.74712819\n",
      "50067665.747128196\n",
      "50067665.74712819\n",
      "50067665.747128196\n",
      "50067665.7471282\n",
      "50067665.74712819\n",
      "50067665.74712819\n",
      "50067665.747128196\n",
      "50067665.74712819\n",
      "50067665.74712819\n",
      "50067665.74712819\n",
      "50067665.747128196\n",
      "50067665.74712819\n",
      "50067665.747128196\n",
      "50067665.747128196\n",
      "50067665.74712819\n",
      "50067665.74712819\n",
      "50067665.74712819\n",
      "50067665.747128196\n",
      "50067665.747128196\n",
      "50067665.747128196\n",
      "50067665.747128196\n",
      "50067665.74712819\n",
      "50067665.74712819\n",
      "50067665.747128196\n",
      "50067665.747128196\n",
      "50067665.74712819\n",
      "50067665.74712819\n",
      "50067665.74712819\n",
      "50067665.74712819\n",
      "50067665.74712819\n",
      "50067665.747128196\n",
      "50067665.74712819\n",
      "50067665.747128196\n",
      "50067665.747128196\n",
      "50067665.747128196\n",
      "50067665.747128196\n",
      "50067665.747128196\n",
      "50067665.74712819\n",
      "50067665.74712819\n",
      "50067665.747128196\n",
      "50067665.747128196\n",
      "50067665.747128196\n",
      "50067665.747128196\n",
      "50067665.747128196\n",
      "50067665.747128196\n",
      "50067665.747128196\n",
      "50067665.747128196\n",
      "50067665.747128196\n",
      "50067665.747128196\n",
      "50067665.7471282\n",
      "50067665.747128196\n",
      "50067665.747128196\n",
      "50067665.74712819\n",
      "50067665.747128196\n",
      "50067665.747128196\n",
      "50067665.74712819\n",
      "50067665.74712819\n",
      "50067665.74712819\n",
      "50067665.747128196\n",
      "50067665.7471282\n",
      "50067665.747128196\n",
      "50067665.74712819\n",
      "50067665.747128196\n",
      "50067665.747128196\n",
      "50067665.74712819\n",
      "50067665.74712819\n",
      "50067665.74712819\n",
      "50067665.747128196\n",
      "50234822.51743157\n",
      "50234822.51743157\n",
      "50234822.51743157\n",
      "50234822.517431565\n",
      "50234822.51743157\n",
      "50234822.51743157\n",
      "50234822.51743157\n",
      "50234822.51743157\n",
      "50234822.517431565\n",
      "50234822.51743157\n",
      "50234822.51743157\n",
      "50182659.3870348\n",
      "50182659.3870348\n",
      "50182659.38703481\n",
      "50182659.38703481\n",
      "50182659.38703481\n",
      "50182659.38703481\n",
      "50182659.3870348\n",
      "50182659.38703482\n",
      "50182659.38703481\n",
      "50182659.38703481\n",
      "50182659.38703481\n",
      "50182659.38703481\n",
      "50182659.38703481\n",
      "50182659.38703481\n",
      "50182659.38703481\n",
      "50182659.38703481\n",
      "50182659.38703481\n",
      "50182659.3870348\n",
      "50182659.3870348\n",
      "50182659.38703481\n",
      "50182659.38703482\n",
      "50182659.38703481\n",
      "50182659.38703482\n",
      "50182659.38703481\n",
      "50182659.38703481\n",
      "50182659.38703482\n",
      "50182659.38703481\n",
      "50182659.38703481\n",
      "50182659.38703481\n",
      "50182659.3870348\n",
      "50182659.3870348\n",
      "50182659.3870348\n",
      "50182659.38703482\n",
      "50182659.38703481\n",
      "50182659.38703481\n",
      "50182659.3870348\n",
      "50182659.38703481\n",
      "50182659.3870348\n",
      "50182659.3870348\n",
      "50182659.3870348\n",
      "50182659.38703481\n",
      "50182659.3870348\n",
      "50182659.38703481\n",
      "50182659.3870348\n",
      "50182659.38703481\n",
      "50182659.3870348\n",
      "50182659.38703481\n",
      "50182659.38703481\n",
      "50182659.38703481\n",
      "50182659.3870348\n",
      "50182659.3870348\n",
      "50182659.3870348\n",
      "50182659.3870348\n",
      "50182659.3870348\n",
      "50182659.38703481\n",
      "50182659.3870348\n",
      "50182659.3870348\n",
      "50182659.3870348\n",
      "50182659.3870348\n",
      "50182659.3870348\n",
      "50182659.3870348\n",
      "50182659.3870348\n",
      "50182659.3870348\n",
      "50182659.3870348\n",
      "50182659.38703481\n",
      "50182659.38703481\n",
      "50182659.38703481\n",
      "50182659.3870348\n",
      "50182659.38703481\n",
      "50182659.3870348\n",
      "50182659.3870348\n",
      "50182659.3870348\n",
      "50182659.38703481\n",
      "50182659.38703481\n",
      "50182659.38703481\n",
      "50182659.38703481\n",
      "50182659.38703481\n",
      "50182659.38703481\n",
      "50182659.38703481\n",
      "50182659.3870348\n",
      "50182659.38703481\n",
      "50182659.3870348\n",
      "50182659.38703481\n",
      "50182659.3870348\n",
      "50182659.3870348\n",
      "50182659.3870348\n",
      "50182659.3870348\n",
      "50149046.02409621\n",
      "50149046.02409621\n",
      "50149046.024096206\n",
      "50097671.626879185\n",
      "50097671.62687918\n",
      "50097671.62687918\n",
      "50097671.62687918\n",
      "50097671.626879185\n",
      "50048383.987110324\n",
      "50048383.987110324\n",
      "50048383.98711032\n",
      "50048383.98711032\n",
      "50048383.98711032\n",
      "50048383.987110324\n",
      "50048383.987110324\n",
      "50048383.98711032\n",
      "50048383.98711032\n",
      "50048383.987110324\n",
      "50048383.987110324\n",
      "50048383.987110324\n",
      "50048383.98711032\n",
      "50048383.987110324\n",
      "50048383.987110324\n",
      "50048383.987110324\n",
      "50048383.987110324\n",
      "50048383.987110324\n",
      "50048383.98711032\n",
      "50048383.98711032\n",
      "50048383.98711032\n",
      "50048383.98711032\n",
      "50048383.98711032\n",
      "50048383.987110324\n",
      "50048383.98711032\n",
      "50048383.98711032\n",
      "50048383.98711032\n",
      "50048383.98711032\n",
      "50048383.98711032\n",
      "50048383.98711032\n",
      "50048383.98711032\n",
      "50048383.98711032\n",
      "50048383.98711032\n",
      "50048383.98711032\n",
      "50048383.987110324\n",
      "50048383.98711032\n",
      "50048383.98711032\n",
      "50048383.98711032\n",
      "50048383.98711032\n",
      "50134148.769655846\n",
      "50134148.769655846\n",
      "50134148.769655846\n",
      "50134148.769655846\n",
      "50134148.769655846\n",
      "50134148.769655846\n",
      "50134148.769655846\n",
      "50134148.769655846\n",
      "50134148.76965584\n",
      "50134148.76965584\n",
      "50175366.48064398\n",
      "50175366.48064397\n",
      "50175366.48064397\n",
      "50175366.48064397\n",
      "50175366.48064397\n",
      "50175366.48064398\n",
      "50175366.48064398\n",
      "50175366.48064397\n",
      "50175366.48064397\n",
      "50175366.48064397\n",
      "50175366.48064398\n",
      "50175366.48064397\n",
      "50175366.48064397\n",
      "50175366.48064398\n",
      "50175366.48064398\n",
      "50175366.48064397\n",
      "50175366.48064397\n",
      "50175366.48064398\n",
      "50175366.48064398\n",
      "50175366.48064397\n",
      "50175366.48064397\n",
      "50175366.48064398\n",
      "50175366.48064398\n",
      "50175366.48064397\n",
      "50175366.48064397\n",
      "50175366.48064398\n",
      "50175366.48064398\n",
      "50175366.48064398\n",
      "50175366.48064398\n",
      "50175366.48064398\n",
      "50175366.48064399\n",
      "50175366.48064398\n",
      "50175366.48064398\n",
      "50175366.48064398\n",
      "50175366.48064398\n",
      "50175366.48064398\n",
      "50175366.48064398\n",
      "50175366.48064399\n",
      "50175366.48064398\n",
      "50175366.48064399\n",
      "50175366.48064398\n",
      "50175366.48064399\n",
      "50175366.48064398\n",
      "50175366.48064398\n",
      "50175366.48064398\n",
      "50175366.48064398\n",
      "50175366.48064398\n",
      "50175366.48064397\n",
      "50175366.48064398\n",
      "50175366.48064399\n",
      "50175366.48064399\n",
      "50175366.48064399\n",
      "50175366.48064397\n",
      "50175366.48064397\n",
      "50175366.48064398\n",
      "50175366.48064397\n",
      "50175366.48064398\n",
      "50175366.48064398\n",
      "50175366.48064398\n",
      "50175366.48064398\n",
      "50175366.48064398\n",
      "50175366.48064398\n",
      "50175366.48064398\n",
      "50175366.48064399\n",
      "50175366.48064398\n",
      "50160871.55772422\n",
      "50160871.55772422\n",
      "50160871.55772422\n",
      "50160871.55772422\n",
      "50160871.557724215\n",
      "50160871.55772422\n",
      "50160871.55772422\n",
      "50160871.55772422\n",
      "50160871.55772422\n",
      "50160871.557724215\n",
      "50160871.55772422\n",
      "50160871.55772422\n",
      "50160871.55772422\n",
      "50160871.55772422\n",
      "50160871.55772422\n",
      "50160871.55772422\n",
      "50160871.55772422\n",
      "50160871.55772422\n",
      "50160871.55772422\n",
      "50160871.55772422\n",
      "50160871.557724215\n",
      "50160871.55772422\n",
      "50160871.55772422\n",
      "50160871.55772422\n",
      "50160871.55772422\n",
      "50160871.557724215\n",
      "50160871.55772422\n",
      "50160871.55772422\n",
      "50160871.55772422\n",
      "50160871.55772422\n",
      "50160871.55772422\n",
      "50160871.55772422\n",
      "50133958.80993676\n",
      "50133958.80993676\n",
      "50111304.79020622\n",
      "50143195.67719082\n",
      "50143195.67719082\n",
      "50143195.67719081\n",
      "50143195.67719081\n",
      "50143195.67719082\n",
      "50143195.67719081\n",
      "50143195.67719082\n",
      "50143195.67719082\n",
      "50215592.893187985\n",
      "50215592.893187985\n",
      "50215592.89318797\n",
      "50215592.893187985\n",
      "50210975.68996835\n",
      "50210975.68996835\n",
      "50210975.68996835\n",
      "50210975.68996835\n",
      "50210975.68996835\n",
      "50210975.68996835\n",
      "50210975.68996835\n",
      "50210975.68996835\n",
      "50210975.68996835\n",
      "50210975.68996835\n",
      "50210975.68996835\n",
      "50210975.68996835\n",
      "50210975.68996835\n",
      "50210975.68996835\n",
      "50210975.68996835\n",
      "50210975.68996835\n",
      "50210975.68996835\n",
      "50210975.68996835\n",
      "50210975.68996835\n",
      "50210975.68996835\n",
      "50210975.68996835\n",
      "50210975.68996835\n",
      "50210975.68996835\n",
      "50210975.68996835\n",
      "50210975.68996835\n",
      "50210975.68996835\n",
      "50210975.68996835\n",
      "50210975.68996835\n",
      "50210975.68996835\n",
      "50210975.68996835\n",
      "50210975.68996835\n",
      "50210975.68996835\n",
      "50210975.68996835\n",
      "50210975.68996835\n",
      "50210975.68996835\n",
      "50210975.68996834\n",
      "50210975.68996835\n",
      "50210975.68996835\n",
      "50210975.68996835\n",
      "50210975.68996835\n",
      "50218292.54427463\n",
      "50218292.54427463\n",
      "50218292.54427463\n",
      "50218292.54427463\n",
      "50218292.54427463\n",
      "50218292.54427462\n",
      "50218292.54427462\n",
      "50218292.54427462\n",
      "50218292.54427463\n",
      "50218292.54427463\n",
      "50218292.54427463\n",
      "50218292.54427463\n",
      "50218292.54427463\n",
      "50218292.54427463\n",
      "50218292.54427463\n",
      "50218292.54427463\n",
      "50218292.54427463\n",
      "50218292.54427463\n",
      "50218292.54427463\n",
      "50101822.82907848\n",
      "50101822.82907848\n",
      "50101822.82907848\n",
      "50101822.82907848\n",
      "50051798.555087075\n",
      "50051798.555087075\n",
      "50051798.55508707\n",
      "50051798.555087075\n",
      "50051798.55508706\n",
      "50051798.55508707\n",
      "50051798.555087075\n",
      "50051798.555087075\n",
      "50051798.555087075\n",
      "50051798.55508707\n",
      "50051798.55508707\n",
      "50051798.55508707\n",
      "50051798.55508707\n",
      "50051798.555087075\n",
      "50303767.23146324\n"
     ]
    },
    {
     "data": {
      "text/html": [
       "<video controls> <source src=\"collide.webm\" type=\"video/webm\"></video>"
      ],
      "text/plain": [
       "<IPython.core.display.HTML object>"
      ]
     },
     "execution_count": 1,
     "metadata": {},
     "output_type": "execute_result"
    }
   ],
   "source": [
    "# Main code and animation here\n",
    "\"\"\"\n",
    "This code will simulate the behaviour of a noble gas, modelling\n",
    "the gas as a collection of particles with initial velocities\n",
    "undergoing elastic collisions.\n",
    "\"\"\"\n",
    "\n",
    "import numpy as np\n",
    "import matplotlib.pyplot as plt\n",
    "import matplotlib.animation as animation\n",
    "from itertools import combinations\n",
    "from IPython.display import HTML\n",
    "import matplotlib\n",
    "\n",
    "npoint = 400 # number of particles\n",
    "nframe = 500 # number of frames in animation\n",
    "xmin, xmax, ymin, ymax = 0, 1, 0, 1  # the bounds of the plot\n",
    "Dt = 0.00002  # time step\n",
    "pr = 0.0015  # particle radius\n",
    "pm = 2.672 * 10**(-26)  # particle mass\n",
    "\n",
    "x = np.random.random(npoint)  # the x position array of particles\n",
    "y = np.random.random(npoint)  # the y position array of particles\n",
    "vx = -500. * np.ones(npoint)  # initial x velocity array\n",
    "vy = np.zeros(npoint)  # inital y velocity array\n",
    "vx[x <= 0.5] = -vx[x <= 0.5]  # sets x velocities on left of screen to -500\n",
    "\n",
    "# arrays used to trace back array indicies used in collisions\n",
    "arr = np.arange(len(x))\n",
    "pairs = np.asarray(list(combinations(arr, 2)))\n",
    "\n",
    "\n",
    "def trace(pairindex):\n",
    "    \"\"\"Finds the index of the 2 individual values\n",
    "    from the origional x array that were used to\n",
    "    create a specific pair in the list of combinations.\n",
    "\n",
    "    pairindex: the index of the pair which we want to\n",
    "    trace back to its origional values in x.\n",
    "\n",
    "    returns a list of the index of the 1st value and b\n",
    "    the index of the 2nd value from x for the combination\n",
    "    in xx.\n",
    "    \"\"\"\n",
    "\n",
    "    a = pairs[pairindex][:, 0]  # finds first position index\n",
    "    b = pairs[pairindex][:, 1]  # finds second position index\n",
    "    return a, b\n",
    "\n",
    "\n",
    "def update_point(num):\n",
    "    \"\"\"This function updates the particle position and simulates\n",
    "    the collisions between particles, updating the frames to be\n",
    "    animated every 2 simulation updates.\n",
    "    \n",
    "    num: a placeholder parameter for use in FuncAnimation()\n",
    "    \n",
    "    returns None\"\"\"\n",
    "\n",
    "    global x, y, vx, vy  # reference global variables\n",
    "    print('.', end='')  # Provide progress feedback\n",
    "    for i in range(2):  # runs 2 iterations\n",
    "        dx = Dt * vx  # calculates the change in x for the timestep Dt\n",
    "        dy = Dt * vy  # calculates the change in y for the timestep Dt\n",
    "        x = x + dx  # sets new x to x + dx\n",
    "        y = y + dy  # sets new y to y + dy\n",
    "        indx = np.where((x < xmin) | (x > xmax))  # finds x values out of bounds\n",
    "        indy = np.where((y < ymin) | (y > ymax))  # finds y values out of bounds\n",
    "        # reverses velocity of out of bounds particles\n",
    "        vx[indx] = -vx[indx]\n",
    "        vy[indy] = -vy[indy]\n",
    "\n",
    "        xx = np.asarray(list(combinations(x, 2)))  # pairs of x values\n",
    "        yy = np.asarray(list(combinations(y, 2)))  # paris of y values\n",
    "        # Distances between particles:\n",
    "        dd = (xx[:, 0] - xx[:, 1])**2 + (yy[:, 0] - yy[:, 1])**2\n",
    "        # finds index of dd where distance between particles are smaller the 2x the particle radius\n",
    "        col = np.where(np.sqrt(dd) <= 2 * pr)\n",
    "\n",
    "        p1, p2 = trace(col)  # finds index of 1st and 2nd values that make up xx and yy pairs\n",
    "        # converts p1 and p2 to list\n",
    "        p1 = list(p1)\n",
    "        p2 = list(p2)\n",
    "\n",
    "        ovx = np.copy(vx)  # make a copy of vx for array operations\n",
    "        ovy = np.copy(vy)  # make a copy of vy for array operations\n",
    "        ox = np.copy(x)  # make a copy of x for array operations\n",
    "        oy = np.copy(y)  # make a copy of y for array operations\n",
    "        # calculates new vx for the 1st particle in collision\n",
    "        vx[p1] = ovx[p1] - ((ovx[p1] - ovx[p2]) * (ox[p1] - ox[p2]) +\n",
    "                            (ovy[p1] - ovy[p2]) *\n",
    "                            (oy[p1] - oy[p2])) * (ox[p1] - ox[p2]) / dd[col]\n",
    "        # calculates new vx for the 2nd particle in collision\n",
    "        vx[p2] = ovx[p2] - ((ovx[p2] - ovx[p1]) * (ox[p2] - ox[p1]) +\n",
    "                            (ovy[p2] - ovy[p1]) *\n",
    "                            (oy[p2] - oy[p1])) * (ox[p2] - ox[p1]) / dd[col]\n",
    "        # calculates new vy for the 1st particle in collision\n",
    "        vy[p1] = ovy[p1] - ((ovx[p1] - ovx[p2]) * (ox[p1] - ox[p2]) +\n",
    "                            (ovy[p1] - ovy[p2]) *\n",
    "                            (oy[p1] - oy[p2])) * (oy[p1] - oy[p2]) / dd[col]\n",
    "        # calculates new vy for the 2nd particle in collision\n",
    "        vy[p2] = ovy[p2] - ((ovx[p2] - ovx[p1]) * (ox[p2] - ox[p1]) +\n",
    "                            (ovy[p2] - ovy[p1]) *\n",
    "                            (oy[p2] - oy[p1])) * (oy[p2] - oy[p1]) / dd[col]\n",
    "\n",
    "    data = np.stack((x, y), axis=-1)  # stacks x and y arrays\n",
    "    im.set_offsets(data)  # sets offets for data array\n",
    "\n",
    "\n",
    "fig, ax = plt.subplots()  # max plot figure and axis\n",
    "# sets limits of plot\n",
    "plt.xlim(xmin, xmax)\n",
    "plt.ylim(ymin, ymax)\n",
    "\n",
    "# creates colour array for particles\n",
    "carr = np.full(shape=(len(x), 3), fill_value=(0, 0, 0))\n",
    "carr[x <= 0.5] = (0, 0, 1)\n",
    "carr[x > 0.5] = (1, 0, 0)\n",
    "\n",
    "# plots the particles as a scatter plot coloured as the colour array\n",
    "im = ax.scatter(x, y, c=carr)\n",
    "im.set_sizes([20])  # sets size of particles in animation\n",
    "\n",
    "# creates animation using FuncAnimtion()\n",
    "anim = animation.FuncAnimation(fig,\n",
    "                               update_point,\n",
    "                               nframe,\n",
    "                               interval=40,\n",
    "                               repeat=False)\n",
    "# saves animation\n",
    "anim.save('collide.webm', extra_args=['-vcodec', 'libvpx'])\n",
    "plt.close()  # prevents stray plot from appearing\n",
    "# displays animation in notebook\n",
    "HTML('<video controls> <source src=\"collide.webm\" ' +\n",
    "     'type=\"video/webm\"></video>')"
   ]
  },
  {
   "cell_type": "code",
   "execution_count": 4,
   "metadata": {
    "collapsed": false,
    "deletable": false,
    "nbgrader": {
     "cell_type": "code",
     "checksum": "820ed7dba3283f0827ec3906b2aa1bea",
     "grade": true,
     "grade_id": "cell-project4-2",
     "locked": false,
     "points": 0,
     "schema_version": 3,
     "solution": true,
     "task": false
    }
   },
   "outputs": [
    {
     "data": {
      "image/png": "[encoded data removed]",
      "text/plain": [
       "<Figure size 1000x500 with 2 Axes>"
      ]
     },
     "metadata": {},
     "output_type": "display_data"
    }
   ],
   "source": [
    "# Plots, fits and temperature output line here\n",
    "\"\"\"This code creates histograms of the speed and kinetic energy of all\n",
    "particles in simulation fits the temperature paramater to theoretical\n",
    "functions and prduces plots of both the theoretical functions and the\n",
    "histograms.\"\"\"\n",
    "\n",
    "import numpy as np\n",
    "import matplotlib.pyplot as plt\n",
    "import scipy.optimize as sci\n",
    "\n",
    "v = np.sqrt(vx**2 + vy**2)  # calculates speed of all particles\n",
    "Ek = 1 / 2 * pm * v**2  # calculates kinetic energy of all particles\n",
    "kb = 1.38E-23  # Boltzman's constant\n",
    "\n",
    "vhist = np.histogram(v, 25, density=True)  # makes velocity histogram\n",
    "Ehist = np.histogram(Ek, 25, density=True)  # makes kinetic energy histogram\n",
    "\n",
    "fig, ax = plt.subplots(1, 2, figsize=(10, 5))  # makes plot figure and axis\n",
    "ax[0].hist(v, 25, density=True, color=\"blue\")  # plots histogram of speed\n",
    "ax[0].title.set_text(\"Probability density of speed\")  # sets title of speed histogram\n",
    "# sets axis labels for velocity histogram\n",
    "ax[0].xaxis.label.set_text(\"Speed (m/s)\")\n",
    "ax[0].yaxis.label.set_text(\"Probability\")\n",
    "ax[1].hist(Ek, 25, density=True, color=\"red\")  # plots histogram of kinetic energy\n",
    "ax[1].title.set_text(\"Probability density of kinetic energy\")  # sets title of kinetic energy histogram\n",
    "# sets axis labels for kinetic energy histogram\n",
    "ax[1].xaxis.label.set_text(\"Kinetic Energy (J)\")\n",
    "ax[1].yaxis.label.set_text(\"Probability\")\n",
    "plt.subplots_adjust(wspace=0.3)  # increases spacing between plots\n",
    "\n",
    "\n",
    "def f(v, T):\n",
    "    return pm * v / T / kb * np.exp(-pm * v**2 / (2 * kb * T))\n",
    "\n",
    "\n",
    "def g(E, T):\n",
    "    return 1 / (T * kb) * np.exp(-E / (kb * T))\n",
    "\n",
    "\n",
    "T, tcov = sci.curve_fit(f, vhist[1][:-1], vhist[0])\n",
    "terr = np.sqrt(np.diag(tcov))\n",
    "\n",
    "v.sort()\n",
    "Ek.sort()\n",
    "\n",
    "ax[0].plot(v, f(v, T), color='green')\n",
    "ax[1].plot(Ek, g(Ek, T), color='green')\n",
    "ax[0].text(700,\n",
    "           0.0018,\n",
    "           \"T = {:.0f} \\u00B1 {:.0f} K\".format(T[0], terr[0]),\n",
    "           color='green')\n",
    "ax[1].text(np.max(Ehist[1]) / 2,\n",
    "           np.max(Ehist[0]) / 1.2,\n",
    "           \"T = {:.0f} \\u00B1 {:.0f} K\".format(T[0], terr[0]),\n",
    "           color='green')\n",
    "plt.show()"
   ]
  },
  {
   "cell_type": "markdown",
   "metadata": {
    "collapsed": false,
    "deletable": false,
    "editable": false,
    "nbgrader": {
     "grade": false,
     "grade_id": "cf5dfa",
     "locked": true,
     "schema_version": 3,
     "solution": false,
     "task": false
    }
   },
   "source": [
    "# Acknowledgements\n",
    "\n",
    "In the cell below, please describe the role of **anyone other than yourself** who contributed to the work shown in this notebook.\n",
    "\n",
    "Its ok to get help from us and classmates! Please get in the habit of acknowledging such contributions.\n",
    "\n",
    "If you want to refer to a classmate, please use only their cocalc email-id and not their name - or you could just say something like: \"a classmate gave me the idea to use xxx feature to solve yyy problem.\"\n"
   ]
  },
  {
   "cell_type": "markdown",
   "metadata": {
    "collapsed": false
   },
   "source": [
    "_Acknowledgements here:_\n",
    "\n"
   ]
  },
  {
   "cell_type": "markdown",
   "metadata": {
    "collapsed": false,
    "deletable": false,
    "editable": false,
    "nbgrader": {
     "grade": false,
     "grade_id": "5a51c40",
     "locked": true,
     "schema_version": 3,
     "solution": false,
     "task": false
    }
   },
   "source": [
    "# Extension Code and Description\n",
    "All solution code for the main project question should appear in the two main cells above above. Project extensions go in the cell \"cell-extension\" immediately below and the descriptions of your extension go in the cell below that."
   ]
  },
  {
   "cell_type": "code",
   "execution_count": null,
   "metadata": {
    "collapsed": false,
    "deletable": false,
    "nbgrader": {
     "cell_type": "code",
     "checksum": "887dd39afb49072de92ec16acce3a808",
     "grade": true,
     "grade_id": "cell-extension",
     "locked": false,
     "points": 3,
     "schema_version": 3,
     "solution": true,
     "task": false
    }
   },
   "outputs": [],
   "source": [
    "# Main code and animation here\n",
    "\n",
    "import numpy as np\n",
    "import matplotlib.pyplot as plt\n",
    "import matplotlib.animation as animation\n",
    "from itertools import combinations, permutations\n",
    "from IPython.display import HTML\n",
    "import matplotlib\n",
    "\"\"\"\n",
    "# Do your testing using smaller numbers than these\n",
    "# (Running this code as is will take a very long time)\n",
    "npoint = 400\n",
    "nframe = 500\n",
    "xmin, xmax, ymin, ymax = 0, 1, 0, 1\n",
    "Dt = 0.00002  # time step\n",
    "pr = 0.0015  # particle radius\n",
    "pm = 2.672 * 10**(-26)  # particle mass\n",
    "\"\"\"\n",
    "\n",
    "npoint = 300\n",
    "nframe = 400\n",
    "xmin, xmax, ymin, ymax = 0, 1, 0, 1\n",
    "Dt = 0.00002  # time step\n",
    "pr = 0.0015  # particle radius\n",
    "pm = 1.674E-27  # particle mass\n",
    "charge = 1.602E-19\n",
    "ke = 8.988E9\n",
    "\n",
    "x = np.random.random(npoint)\n",
    "y = np.random.random(npoint)\n",
    "vx = -400. * np.ones(npoint)\n",
    "vy = np.zeros(npoint)\n",
    "vx[x <= 0.5] = -vx[x <= 0.5]\n",
    "\n",
    "chargearr = np.full(npoint, charge)\n",
    "chargearr[x >= 0.5] *= -1\n",
    "\n",
    "accx = np.zeros(npoint)\n",
    "accy = np.zeros(npoint)\n",
    "\n",
    "arr = np.arange(len(x))\n",
    "pairs = np.asarray(list(combinations(arr, 2)))\n",
    "\n",
    "\n",
    "def trace(pairindex):\n",
    "    \"\"\"Finds the index of the 2 individual values\n",
    "    from the origional x array that were used to\n",
    "    create a specific pair in the list of combinations.\n",
    "\n",
    "    pairindex: the index of the pair which we want to\n",
    "    trace back to its origional values in x.\n",
    "\n",
    "    returns a list of the index of the 1st value and b\n",
    "    the index of the 2nd value from x for the combination\n",
    "    in xx.\n",
    "    \"\"\"\n",
    "\n",
    "    a = pairs[pairindex][:, 0]\n",
    "    b = pairs[pairindex][:, 1]\n",
    "    return a, b\n",
    "\n",
    "\n",
    "def update_point(num):\n",
    "    global x, y, vx, vy, accx, accy\n",
    "    #print('.', end='')  # Provide progress feedback\n",
    "    for i in range(2):\n",
    "        dx = Dt * vx + 1 / 2 * Dt**2 * accx\n",
    "        dy = Dt * vy + 1 / 2 * Dt**2 * accy\n",
    "        x = x + dx\n",
    "        y = y + dy\n",
    "        indx = np.where((x < xmin) | (x > xmax))\n",
    "        indy = np.where((y < ymin) | (y > ymax))\n",
    "        vx[indx] = -vx[indx]\n",
    "        vy[indy] = -vy[indy]\n",
    "\n",
    "        xx = np.asarray(list(combinations(x, 2)))\n",
    "        yy = np.asarray(list(combinations(y, 2)))\n",
    "        cc = np.asarray(list(permutations(chargearr, 2)))\n",
    "        xxc = np.asarray(list(permutations(x, 2)))\n",
    "        yyc = np.asarray(list(permutations(y, 2)))\n",
    "        # Distances between particles (squared):\n",
    "        dd = (xx[:, 0] - xx[:, 1])**2 + (yy[:, 0] - yy[:, 1])**2\n",
    "        ddc = (xxc[:, 0] - xxc[:, 1])**2 + (yyc[:, 0] - yyc[:, 1])**2\n",
    "\n",
    "        ffx = ke * cc[:, 0] * cc[:, 1] / ddc**(3 / 2) * (xxc[:, 0] -\n",
    "                                                         xxc[:, 1]) * 5E4\n",
    "        ffy = ke * cc[:, 0] * cc[:, 1] / ddc**(3 / 2) * (yyc[:, 0] -\n",
    "                                                         yyc[:, 1]) * 5E4\n",
    "\n",
    "        for i in range(npoint):\n",
    "            accx[i] = np.sum(ffx[i * (npoint - 1):i * (npoint - 1) +\n",
    "                                 (npoint - 1)]) / pm\n",
    "            accy[i] = np.sum(ffy[i * (npoint - 1):i * (npoint - 1) +\n",
    "                                 (npoint - 1)]) / pm\n",
    "\n",
    "        col = np.where(np.sqrt(dd) <= 2 * pr)\n",
    "\n",
    "        p1, p2 = trace(col)\n",
    "        p1 = list(p1)\n",
    "        p2 = list(p2)\n",
    "\n",
    "        ovx = np.copy(vx)\n",
    "        ovy = np.copy(vy)\n",
    "        ox = np.copy(x)\n",
    "        oy = np.copy(y)\n",
    "        vx[p1] = ovx[p1] - ((ovx[p1] - ovx[p2]) * (ox[p1] - ox[p2]) +\n",
    "                            (ovy[p1] - ovy[p2]) *\n",
    "                            (oy[p1] - oy[p2])) * (ox[p1] - ox[p2]) / dd[col]\n",
    "        vx[p2] = ovx[p2] - ((ovx[p2] - ovx[p1]) * (ox[p2] - ox[p1]) +\n",
    "                            (ovy[p2] - ovy[p1]) *\n",
    "                            (oy[p2] - oy[p1])) * (ox[p2] - ox[p1]) / dd[col]\n",
    "        vy[p1] = ovy[p1] - ((ovx[p1] - ovx[p2]) * (ox[p1] - ox[p2]) +\n",
    "                            (ovy[p1] - ovy[p2]) *\n",
    "                            (oy[p1] - oy[p2])) * (oy[p1] - oy[p2]) / dd[col]\n",
    "        vy[p2] = ovy[p2] - ((ovx[p2] - ovx[p1]) * (ox[p2] - ox[p1]) +\n",
    "                            (ovy[p2] - ovy[p1]) *\n",
    "                            (oy[p2] - oy[p1])) * (oy[p2] - oy[p1]) / dd[col]\n",
    "\n",
    "    data = np.stack((x, y), axis=-1)\n",
    "    im.set_offsets(data)\n",
    "\n",
    "\n",
    "fig, ax = plt.subplots()\n",
    "plt.xlim(xmin, xmax)\n",
    "plt.ylim(ymin, ymax)\n",
    "\n",
    "carr = np.full(shape=(len(x), 3), fill_value=(0, 0, 0))\n",
    "carr[x <= 0.5] = (0, 0, 1)\n",
    "carr[x > 0.5] = (1, 0, 0)\n",
    "\n",
    "im = ax.scatter(x, y, c=carr)\n",
    "im.set_sizes([20])\n",
    "\n",
    "anim = animation.FuncAnimation(fig,\n",
    "                               update_point,\n",
    "                               nframe,\n",
    "                               interval=40,\n",
    "                               repeat=False)\n",
    "anim.save('collide_ext.webm', extra_args=['-vcodec', 'libvpx'])\n",
    "HTML('<video controls> <source src=\"collide_ext.webm\" ' +\n",
    "     'type=\"video/webm\"></video>')"
   ]
  },
  {
   "cell_type": "markdown",
   "metadata": {
    "collapsed": false
   },
   "source": [
    "_In this cell, please describe any new language features or project extension you have implemented:_\n",
    "\n",
    "\n"
   ]
  },
  {
   "cell_type": "markdown",
   "metadata": {
    "collapsed": false,
    "deletable": false,
    "editable": false,
    "nbgrader": {
     "grade": false,
     "grade_id": "grading-header",
     "locked": true,
     "schema_version": 3,
     "solution": false,
     "task": false
    }
   },
   "source": [
    "# Grading cells\n",
    "The cells below marked as \"grade use only\" are created as placeholders so that we can provide a manual grade and comments for each category. \n",
    "\n",
    "Exceptions are the \"2. Style\" test, which has an associated autograder test that you can run to check style and the timing cell \"cell-optimization0\", which you can use to test your code execution time."
   ]
  },
  {
   "cell_type": "code",
   "execution_count": null,
   "metadata": {
    "collapsed": false,
    "deletable": false,
    "nbgrader": {
     "cell_type": "code",
     "checksum": "5fddc8dcc07404068c6f34898e8762c9",
     "grade": true,
     "grade_id": "cell-executes",
     "locked": false,
     "points": 20,
     "schema_version": 3,
     "solution": true,
     "task": false
    }
   },
   "outputs": [],
   "source": [
    "# 1. Code execution (grader use only)"
   ]
  },
  {
   "cell_type": "code",
   "execution_count": null,
   "metadata": {
    "collapsed": false,
    "deletable": false,
    "editable": false,
    "nbgrader": {
     "grade": true,
     "grade_id": "cell-style",
     "locked": true,
     "points": 5,
     "schema_version": 3,
     "solution": false,
     "task": false
    }
   },
   "outputs": [],
   "source": [
    "# 2. Style: pep8 (see note below regarding use of the Format button to fix many errors)\n",
    "#\n",
    "# Tests for pep8 returns warnings or errors. You may need to hit 'Save' after making changes for them to take effect.\n",
    "nb_name = \"project04.ipynb\"\n",
    "cells_to_check = []\n",
    "stop_at = ['cell-extension']\n",
    "# check_style2.py uses cells_to_check and nb_name\n",
    "%run -i check_style2.py"
   ]
  },
  {
   "cell_type": "markdown",
   "metadata": {
    "collapsed": false,
    "deletable": false,
    "editable": false,
    "nbgrader": {
     "grade": false,
     "grade_id": "87d438",
     "locked": true,
     "schema_version": 3,
     "solution": false,
     "task": false
    }
   },
   "source": [
    "Also note that you can use the Format button while in a code cell to automagically fix most pep8 errors (other than way too long print statements)\n",
    "\n",
    "![](project02-format.png)"
   ]
  },
  {
   "cell_type": "code",
   "execution_count": null,
   "metadata": {
    "collapsed": false,
    "deletable": false,
    "nbgrader": {
     "cell_type": "code",
     "checksum": "0bfba331bdaa16e3e38c7f315efdff77",
     "grade": true,
     "grade_id": "cell-results",
     "locked": false,
     "points": 25,
     "schema_version": 3,
     "solution": true,
     "task": false
    }
   },
   "outputs": [],
   "source": [
    "# 3. Results (grader use only)"
   ]
  },
  {
   "cell_type": "code",
   "execution_count": null,
   "metadata": {
    "collapsed": false,
    "deletable": false,
    "nbgrader": {
     "cell_type": "code",
     "checksum": "f39a7cf08454b2b3946e33e39f851429",
     "grade": true,
     "grade_id": "cell-readability",
     "locked": false,
     "points": 30,
     "schema_version": 3,
     "solution": true,
     "task": false
    }
   },
   "outputs": [],
   "source": [
    "# 4. Readability (grader use only)"
   ]
  },
  {
   "cell_type": "code",
   "execution_count": null,
   "metadata": {
    "collapsed": false,
    "deletable": false,
    "nbgrader": {
     "cell_type": "code",
     "checksum": "5f88731ac323e35ec9219653b4ac085b",
     "grade": true,
     "grade_id": "cell-plots",
     "locked": false,
     "points": 15,
     "schema_version": 3,
     "solution": true,
     "task": false
    }
   },
   "outputs": [],
   "source": [
    "# 5. Plot (grader use only)"
   ]
  },
  {
   "cell_type": "code",
   "execution_count": null,
   "metadata": {
    "collapsed": false,
    "deletable": false,
    "editable": false,
    "nbgrader": {
     "grade": true,
     "grade_id": "cell-optimization0",
     "locked": true,
     "points": 0,
     "schema_version": 3,
     "solution": false,
     "task": false
    }
   },
   "outputs": [],
   "source": [
    "# Check execution time\n",
    "nb_name = \"project04.ipynb\"\n",
    "cells_to_time = []\n",
    "stop_at = ['cell-extension']\n",
    "%run -i time_cells2.py"
   ]
  },
  {
   "cell_type": "code",
   "execution_count": null,
   "metadata": {
    "collapsed": false,
    "deletable": false,
    "nbgrader": {
     "cell_type": "code",
     "checksum": "a8a3076187fd64d1224573d70288d2a0",
     "grade": true,
     "grade_id": "cell-optimization1",
     "locked": false,
     "points": 5,
     "schema_version": 3,
     "solution": true,
     "task": false
    }
   },
   "outputs": [],
   "source": [
    "# 5. Code optimization/timing (grader use only)"
   ]
  },
  {
   "cell_type": "code",
   "execution_count": null,
   "metadata": {
    "collapsed": false,
    "deletable": false,
    "nbgrader": {
     "cell_type": "code",
     "checksum": "f3bfbc592099991ad62d237a378affe1",
     "grade": true,
     "grade_id": "cell-new_features",
     "locked": false,
     "points": 2,
     "schema_version": 3,
     "solution": true,
     "task": false
    }
   },
   "outputs": [],
   "source": [
    "# B2. New Functionality/Language features (grader use only)"
   ]
  }
 ],
 "metadata": {
  "celltoolbar": "Create Assignment",
  "kernelspec": {
   "display_name": "Python 3.9.13 ('base')",
   "language": "python",
   "name": "python3"
  },
  "language_info": {
   "codemirror_mode": {
    "name": "ipython",
    "version": 3
   },
   "file_extension": ".py",
   "mimetype": "text/x-python",
   "name": "python",
   "nbconvert_exporter": "python",
   "pygments_lexer": "ipython3",
   "version": "3.9.13"
  },
  "nbgrader": {
   "__altered": false,
   "__hash": -203116787,
   "_root": {
    "entries": [
     [
      "size",
      5
     ],
     [
      "_root",
      {
       "entries": [
        [
         "__altered",
         false
        ],
        [
         "__hash",
         -404592343
        ],
        [
         "_root",
         {
          "entries": [
           [
            "__altered",
            false
           ],
           [
            "__hash",
            -679907196
           ],
           [
            "_root",
            {
             "entries": [
              [
               "__altered",
               false
              ],
              [
               "__hash",
               -651869538
              ],
              [
               "_root",
               {
                "entries": [
                 [
                  "size",
                  6
                 ],
                 [
                  "_root",
                  {
                   "entries": [
                    [
                     "size",
                     5
                    ],
                    [
                     "_root",
                     {
                      "entries": [
                       [
                        "__altered",
                        false
                       ],
                       [
                        "__hash",
                        -1072767477
                       ],
                       [
                        "_root",
                        {
                         "entries": [
                          [
                           "size",
                           6
                          ],
                          [
                           "_root",
                           {
                            "entries": [
                             [
                              "size",
                              1
                             ],
                             [
                              "_root",
                              {
                               "entries": [
                                [
                                 "cocalc_minimal_stubs",
                                 false
                                ]
                               ],
                               "ownerID": {}
                              }
                             ],
                             [
                              "__ownerID",
                              null
                             ],
                             [
                              "__hash",
                              -335098374
                             ],
                             [
                              "__altered",
                              false
                             ],
                             [
                              "cocalc_minimal_stubs",
                              false
                             ]
                            ],
                            "ownerID": {}
                           }
                          ],
                          [
                           "__hash",
                           -1062824929
                          ],
                          [
                           "__altered",
                           false
                          ],
                          [
                           "cocalc_minimal_stubs",
                           false
                          ]
                         ],
                         "ownerID": {}
                        }
                       ],
                       [
                        "cocalc_minimal_stubs",
                        false
                       ],
                       [
                        "size",
                        5
                       ]
                      ],
                      "ownerID": {}
                     }
                    ],
                    [
                     "__ownerID",
                     null
                    ],
                    [
                     "__hash",
                     250283375
                    ],
                    [
                     "__altered",
                     false
                    ],
                    [
                     "cocalc_minimal_stubs",
                     false
                    ]
                   ],
                   "ownerID": {}
                  }
                 ],
                 [
                  "__ownerID",
                  null
                 ],
                 [
                  "__hash",
                  -24045107
                 ],
                 [
                  "__altered",
                  false
                 ],
                 [
                  "cocalc_minimal_stubs",
                  false
                 ]
                ],
                "ownerID": {}
               }
              ],
              [
               "cocalc_minimal_stubs",
               false
              ],
              [
               "size",
               6
              ]
             ],
             "ownerID": {}
            }
           ],
           [
            "cocalc_minimal_stubs",
            false
           ],
           [
            "size",
            5
           ]
          ],
          "ownerID": {}
         }
        ],
        [
         "cocalc_minimal_stubs",
         false
        ],
        [
         "size",
         5
        ]
       ],
       "ownerID": {}
      }
     ],
     [
      "__hash",
      57563853
     ],
     [
      "__altered",
      false
     ],
     [
      "cocalc_minimal_stubs",
      false
     ]
    ],
    "ownerID": {}
   },
   "cocalc_minimal_stubs": false,
   "size": 5
  },
  "vscode": {
   "interpreter": {
    "hash": "0214e287b9e277e5db65c9c8392a0cb4c784a283bfaac9738689724177c9a1b4"
   }
  }
 },
 "nbformat": 4,
 "nbformat_minor": 4
}
