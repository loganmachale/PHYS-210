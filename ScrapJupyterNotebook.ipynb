{
 "cells": [
  {
   "cell_type": "code",
   "execution_count": 1,
   "metadata": {},
   "outputs": [
    {
     "name": "stdout",
     "output_type": "stream",
     "text": [
      "Data-point number 2 has values of x = 1.262 and y = 3.89, with errors of 0.012 and 0.52, respectively.\n"
     ]
    }
   ],
   "source": [
    "import numpy as np\n",
    "\n",
    "data = np.loadtxt(\"assign05-examplearray.txt\")\n",
    "\n",
    "def format_data(row):\n",
    "    pnum = int(data[row,0])\n",
    "    x = data[row, 1]\n",
    "    xerr = data[row, 3]\n",
    "    y = data[row, 2]\n",
    "    yerr = data[row, 4]\n",
    "    print(\"Data-point number {} has values of x = {} and y = {}, with errors of {} and {}, respectively.\".format(pnum, x, y, xerr, yerr))\n",
    "\n",
    "\n",
    "format_data(1)"
   ]
  },
  {
   "cell_type": "code",
   "execution_count": 2,
   "metadata": {},
   "outputs": [
    {
     "data": {
      "text/plain": [
       "144"
      ]
     },
     "execution_count": 2,
     "metadata": {},
     "output_type": "execute_result"
    }
   ],
   "source": [
    "import numpy as np\n",
    "\n",
    "def fib(n):\n",
    "    if n-1 < 1:\n",
    "        return n\n",
    "    else:\n",
    "        return fib(n-1) + fib(n-2)\n",
    "\n",
    "\n",
    "fib(12)"
   ]
  },
  {
   "cell_type": "code",
   "execution_count": 3,
   "metadata": {},
   "outputs": [],
   "source": [
    "import numpy as np\n",
    "\n",
    "def is_power(a, b):\n",
    "    if a%b == 0 and b**0 == a/b:\n",
    "        return True\n",
    "    elif a%b == 0 and b**0 != a/b:\n",
    "        return is_power(a/b, b)\n",
    "    else:\n",
    "        return False\n"
   ]
  },
  {
   "cell_type": "code",
   "execution_count": 4,
   "metadata": {},
   "outputs": [
    {
     "name": "stdout",
     "output_type": "stream",
     "text": [
      "cubc\n",
      "test\n"
     ]
    }
   ],
   "source": [
    "import numpy as np\n",
    "\n",
    "alphabet = \"ABCDEFGHIJKLMNOPQRSTUVWXYZabcdefghijklmnopqrstuvwxyz!?. \"  \n",
    "code = \"TUVWXYZMNOPQRS!?.ABCDEFGHIJKLtuvwxyzmnopqrsabcdefghijkl \"\n",
    "\n",
    "def encode(alphabet, code, string):\n",
    "    newstring = \"\"\n",
    "    for i in string:\n",
    "        newstring = newstring + code[alphabet.index(i)]\n",
    "    return newstring\n",
    "\n",
    "coded = encode(alphabet, code, \"test\")\n",
    "print(coded)\n",
    "print(encode(code, alphabet, coded))"
   ]
  },
  {
   "cell_type": "code",
   "execution_count": 5,
   "metadata": {},
   "outputs": [
    {
     "name": "stdout",
     "output_type": "stream",
     "text": [
      "i am groot\n",
      "\n",
      "i. am. groot!\n",
      "\n",
      "blip bleep bloorp\n",
      "\n"
     ]
    }
   ],
   "source": [
    "import numpy as np\n",
    "\n",
    "f = open(\"worksheet07-crew.txt\")\n",
    "lines = f.readlines()\n",
    "arr = np.array([],dtype=int)\n",
    "for i in lines:\n",
    "    arr = np.int16(np.append(arr,(i.count(\"i\")+i.count(\"o\"))))\n",
    "maxcount = np.max(arr)\n",
    "\n",
    "for a in range(len(arr)):\n",
    "    if arr[a] == maxcount:\n",
    "        print(lines[a])\n"
   ]
  },
  {
   "cell_type": "code",
   "execution_count": 6,
   "metadata": {},
   "outputs": [],
   "source": [
    "import numpy as np\n",
    "\n",
    "def calculate_term(k):\n",
    "    return np.math.factorial(4*k)*(1103+26390*k)/((np.math.factorial(k))**4*396**(4*k))\n",
    "\n",
    "def estimate_pi():\n",
    "    estimate = 0\n",
    "    i = 0\n",
    "    while calculate_term(i) >= 1E-15:\n",
    "        estimate += calculate_term(i)\n",
    "        i += 1\n",
    "    return (estimate*2*np.sqrt(2)/9801)**(-1)\n",
    "\n"
   ]
  },
  {
   "cell_type": "code",
   "execution_count": 7,
   "metadata": {},
   "outputs": [],
   "source": [
    "import numpy as np\n",
    "\n",
    "def monte_carlo_pi(N):\n",
    "    inside = 0\n",
    "    \n",
    "    x = np.random.rand(N)\n",
    "    y = np.random.rand(N)\n",
    "\n",
    "    for i in range(len(x)):\n",
    "        if np.sqrt(x[i]**2+y[i]**2) <= 1:\n",
    "            inside += 1\n",
    "            \n",
    "    return inside/len(x)*4\n",
    "    "
   ]
  },
  {
   "cell_type": "code",
   "execution_count": 8,
   "metadata": {},
   "outputs": [],
   "source": [
    "import numpy as np\n",
    "from matplotlib import pyplot as plt\n",
    "\n",
    "fname = \"worksheet08-gibberish.txt\"\n",
    "\n",
    "def histo(fname):\n",
    "    abet = \"abcdefghijklmnopqrstuvwxyz\"\n",
    "    alphabet = \"abcdefghijklmnopqrstuvwxyz!.,?0123456789 \"\n",
    "    f0 = open(\"worksheet08-paragraph.txt\",\"r\")\n",
    "    f1 = open(fname,\"r\")\n",
    "    lines0 = f0.readlines()\n",
    "    lines1 = f1.readlines()\n",
    "    freq0 = []\n",
    "    freq1 = []\n",
    "    l = 0\n",
    "\n",
    "    for letter in abet:    \n",
    "        for i in lines0:\n",
    "            l += i.count(letter.lower())\n",
    "        freq0.append(l)\n",
    "        l = 0\n",
    "    plt.hist(np.arange(26), 26, weights=freq0)\n",
    "\n",
    "    eloc0 = freq0.index(np.max(freq0))\n",
    "\n",
    "    for letter in abet:    \n",
    "        for i in lines1:\n",
    "            l += i.count(letter.lower())\n",
    "        freq1.append(l)\n",
    "        l = 0\n",
    "    plt.hist(np.arange(26), 26, weights=freq1)\n",
    "\n",
    "    eloc1 = freq1.index(np.max(freq1))\n",
    "    \n",
    "    shift = eloc1 - eloc0\n",
    "\n",
    "    code = \"\"\n",
    "    code = abet[shift:] + abet[0:shift] + \"!.,?0123456789 \"\n",
    "\n",
    "    def encode(alphabet, code, string):\n",
    "        newstring = \"\"\n",
    "        for i in string:\n",
    "            newstring = newstring + code[(alphabet.lower()).index(i.lower())]\n",
    "        return newstring\n",
    "\n",
    "    return encode(code, alphabet, \"Yzmpw Actkp ty Asjdtnd, 2022. Qzc piapctxpyed htes pyelyrwpo aszezyd, pdelmwtdstyr esp gtzwletzy zq Mpww typbflwtetpd lyo atzyppctyr bflyefx tyqzcxletzy dntpynp. Lwlty Ldapne, Uzsy Nwlfdpc lyo Lyezy Kptwtyrpc slgp plns nzyofnepo rczfyomcplvtyr piapctxpyed fdtyr pyelyrwpo bflyefx delepd, hspcp ehz alcetnwpd mpslgp wtvp l dtyrwp fyte pgpy hspy espj lcp dpalclepo.\")\n"
   ]
  },
  {
   "cell_type": "code",
   "execution_count": 9,
   "metadata": {},
   "outputs": [],
   "source": [
    "import numpy as np\n",
    "\n",
    "#Q1\n",
    "def to_percent(decimal):\n",
    "    value = decimal*100\n",
    "    return \"{:.1f}%\".format(value)\n",
    "\n",
    "#Q2\n",
    "def tail_flip(arr):\n",
    "    ac = np.copy(arr)\n",
    "    arr = np.append(arr[0:len(arr)-2],ac[len(ac)-1])\n",
    "    arr = np.append(arr[0:],ac[len(ac)-2])\n",
    "    return arr\n",
    "\n",
    "#Q3\n",
    "def footy_finder(filename):\n",
    "    f = open(filename)\n",
    "    lines = f.readlines()\n",
    "    count = 0\n",
    "    lasts = \"\"\n",
    "\n",
    "    for i in lines:\n",
    "        if \"#\" in i:\n",
    "            count += 1\n",
    "            continue\n",
    "        else:\n",
    "            i = i.strip(\"\\n\")\n",
    "            lasts = lasts + i[len(i)-1]\n",
    "    return count, lasts\n",
    "    "
   ]
  },
  {
   "cell_type": "code",
   "execution_count": 10,
   "metadata": {},
   "outputs": [
    {
     "name": "stdout",
     "output_type": "stream",
     "text": [
      "[1 2 2] [1 2 2]\n"
     ]
    }
   ],
   "source": [
    "import numpy as np\n",
    "\n",
    "def tail_flip(arr):\n",
    "    arr2 = arr\n",
    "    arr2[-1] = arr[-2]\n",
    "    arr2[-2] = arr[-1]\n",
    "    return arr2\n",
    "\n",
    "a1 = np.array([1,2,3])\n",
    "a2 = tail_flip(a1)\n",
    "\n",
    "print(a1, a2)"
   ]
  },
  {
   "cell_type": "code",
   "execution_count": 11,
   "metadata": {},
   "outputs": [
    {
     "name": "stdout",
     "output_type": "stream",
     "text": [
      "5 15\n"
     ]
    }
   ],
   "source": [
    "def func(x):\n",
    "    z = x\n",
    "    z = x*3\n",
    "    return z\n",
    "\n",
    "a = 5\n",
    "b =func(a)\n",
    "\n",
    "print(a,b)\n"
   ]
  },
  {
   "cell_type": "code",
   "execution_count": 35,
   "metadata": {},
   "outputs": [
    {
     "data": {
      "text/plain": [
       "'nobel prize in physics, 2022. for experiments with entangled photons, establishing the violation of bell inequalities and pioneering quantum information science. alain aspect, john clauser and anton zeilinger have each conducted groundbreaking experiments using entangled quantum states, where two particles behave like a single unit even when they are separated.'"
      ]
     },
     "execution_count": 35,
     "metadata": {},
     "output_type": "execute_result"
    },
    {
     "data": {
      "image/png": "[encoded data removed]",
      "text/plain": [
       "<Figure size 640x480 with 1 Axes>"
      ]
     },
     "metadata": {},
     "output_type": "display_data"
    }
   ],
   "source": [
    "import numpy as np\n",
    "import matplotlib.pyplot as plt\n",
    "\n",
    "fname = \"worksheet08-gibberish.txt\"\n",
    "\n",
    "def histo(fname):\n",
    "    abet = \"abcdefghijklmnopqrstuvwxyz\"\n",
    "    alphabet = \"abcdefghijklmnopqrstuvwxyz!.,?0123456789 \"\n",
    "    f0 = open(\"worksheet08-paragraph.txt\",\"r\")\n",
    "    f1 = open(fname,\"r\")\n",
    "    lines0 = f0.readlines()\n",
    "    lines1 = f1.readlines()\n",
    "    freq0 = {}\n",
    "    freq1 = {}\n",
    "    l = 0\n",
    "\n",
    "    for letter in abet:    \n",
    "        for i in lines0:\n",
    "            l += i.count(letter.lower())\n",
    "        freq0[letter] = l\n",
    "        l = 0\n",
    "    \n",
    "    plt.bar(freq0.keys(), freq0.values())\n",
    "\n",
    "    eloc0 = list(freq0.values()).index(np.max(list(freq0.values())))\n",
    "\n",
    "    for letter in abet:    \n",
    "        for i in lines1:\n",
    "            l += i.count(letter.lower())\n",
    "        freq1[letter] = l\n",
    "        l = 0\n",
    "\n",
    "    plt.bar(freq1.keys(), freq1.values())\n",
    "\n",
    "    eloc1 = list(freq1.values()).index(np.max(list(freq1.values())))\n",
    "    \n",
    "    shift = eloc1 - eloc0\n",
    "\n",
    "    code = \"\"\n",
    "    code = abet[shift:] + abet[0:shift] + \"!.,?0123456789 \"\n",
    "\n",
    "    def encode(alphabet, code, string):\n",
    "        newstring = \"\"\n",
    "        for i in string:\n",
    "            newstring = newstring + code[(alphabet.lower()).index(i.lower())]\n",
    "        return newstring\n",
    "\n",
    "    return encode(code, alphabet, \"Yzmpw Actkp ty Asjdtnd, 2022. Qzc piapctxpyed htes pyelyrwpo aszezyd, pdelmwtdstyr esp gtzwletzy zq Mpww typbflwtetpd lyo atzyppctyr bflyefx tyqzcxletzy dntpynp. Lwlty Ldapne, Uzsy Nwlfdpc lyo Lyezy Kptwtyrpc slgp plns nzyofnepo rczfyomcplvtyr piapctxpyed fdtyr pyelyrwpo bflyefx delepd, hspcp ehz alcetnwpd mpslgp wtvp l dtyrwp fyte pgpy hspy espj lcp dpalclepo.\")\n",
    "    \n",
    "histo(fname)"
   ]
  },
  {
   "cell_type": "code",
   "execution_count": 48,
   "metadata": {},
   "outputs": [
    {
     "name": "stdout",
     "output_type": "stream",
     "text": [
      "Kamala Khan has an average of 79.833% on homework and 61.333% on quizzes; 66.883% overall.\n",
      "Abilene Jull has an average of 92.667% on homework and 85.667% on quizzes; 87.767% overall.\n",
      "Marusia Shevchuk has an average of 94.333% on homework and 93.333% on quizzes; 93.633% overall.\n",
      "Joe Biron has an average of 100.000% on homework and 66.667% on quizzes; 76.667% overall.\n"
     ]
    }
   ],
   "source": [
    "import numpy as np\n",
    "\n",
    "s1 = {'name': 'Kamala Khan', 'homework': [93.0,79.0, 67.5],'quizzes':[67, 72, 45]}\n",
    "s2 = {'name': 'Abilene Jull', 'homework': [100, 90, 88],'quizzes':[77, 100, 80]}\n",
    "s3 = {'name': 'Marusia Shevchuk', 'homework': [100, 95, 88],'quizzes':[100, 100, 80]}\n",
    "s4 = {'name': 'Joe Biron', 'homework': [100.0, 100.0, 100.0],'quizzes':[100, 0, 100]}\n",
    "\n",
    "students = [s1,s2,s3,s4]\n",
    "\n",
    "hwavg = {s1['name']:np.sum(s1['homework'])/3, s2['name']:np.sum(s2['homework'])/3, s3['name']:np.sum(s3['homework'])/3, s4['name']:np.sum(s4['homework'])/3}\n",
    "qavg = {s1['name']:np.sum(s1['quizzes'])/3, s2['name']:np.sum(s2['quizzes'])/3, s3['name']:np.sum(s3['quizzes'])/3, s4['name']:np.sum(s4['quizzes'])/3}\n",
    "oavg = {s1['name']:(qavg['Kamala Khan']*0.7+hwavg['Kamala Khan']*0.3), s2['name']:(qavg['Abilene Jull']*0.7+hwavg['Abilene Jull']*0.3), s3['name']:(qavg['Marusia Shevchuk']*0.7+hwavg['Marusia Shevchuk']*0.3), s4['name']:(qavg['Joe Biron']*0.7+hwavg['Joe Biron']*0.3)}\n",
    "\n",
    "for i in students:\n",
    "    print(\"{name} has an average of {hw:.3f}% on homework and {q:.3f}% on quizzes; {o:.3f}% overall.\".format(name=i['name'],hw=hwavg[i['name']],q=qavg[i['name']],o=oavg[i['name']]))"
   ]
  },
  {
   "cell_type": "code",
   "execution_count": 51,
   "metadata": {},
   "outputs": [
    {
     "name": "stdout",
     "output_type": "stream",
     "text": [
      "a+b\n",
      "2a+b\n",
      "hello\n",
      "6\n"
     ]
    }
   ],
   "source": [
    "def printstuff(a,b):\n",
    "    try:\n",
    "        a + b\n",
    "        print('a+b')\n",
    "    except:\n",
    "        print('uh oh')\n",
    "    else:\n",
    "        c = 2*a + b\n",
    "        print('2a+b')\n",
    "        return c\n",
    "    finally:\n",
    "        print('hello')\n",
    "        return 6\n",
    "\n",
    "y = printstuff(1,2)\n",
    "print(y)"
   ]
  },
  {
   "cell_type": "code",
   "execution_count": 34,
   "metadata": {},
   "outputs": [
    {
     "name": "stdout",
     "output_type": "stream",
     "text": [
      "[]\n",
      "[]\n"
     ]
    }
   ],
   "source": [
    "#Q1\n",
    "etuple = ()\n",
    "wheels = {'quad':4,'tri':3,'bi':2,'uni':1,'brick':0}\n",
    "\n",
    "#Q2\n",
    "import numpy as np\n",
    "\n",
    "def zero_square(a):\n",
    "    arr = np.copy(a)\n",
    "    mindim = np.min(np.shape(arr))\n",
    "    arr[0:mindim,0:mindim] = 0\n",
    "    return arr\n",
    "    \n",
    "#Q3\n",
    "xlist = [1,3]\n",
    "ylist = [1,2]\n",
    "\n",
    "def del2elements(xlist,ylist,xval):\n",
    "    for i in range(len(xlist)):\n",
    "        if xval > xlist[i] and xval < xlist[i+1]:\n",
    "            del xlist[i:i+2]\n",
    "            del ylist[i:i+2]\n",
    "            return None\n",
    "        else:\n",
    "            continue\n",
    "\n",
    "del2elements(xlist,ylist,2)\n",
    "print(xlist)\n",
    "print(ylist)\n",
    "\n",
    "#Clarification for Q3: take xval and compare it to x data, delete the elements on either side of the given x value (numerically in between as in 3<6<8)\n",
    "#then delete the corresponding yvals"
   ]
  },
  {
   "cell_type": "code",
   "execution_count": 39,
   "metadata": {},
   "outputs": [
    {
     "name": "stdout",
     "output_type": "stream",
     "text": [
      "a = 13.80 ± 6.0e-01\n",
      "b = 1.476 ± 2.6e-02\n",
      "c = -72.10694 ± 1.3e+00\n"
     ]
    },
    {
     "data": {
      "image/png": "[encoded data removed]",
      "text/plain": [
       "<Figure size 640x480 with 1 Axes>"
      ]
     },
     "metadata": {},
     "output_type": "display_data"
    },
    {
     "data": {
      "image/png": "[encoded data removed]",
      "text/plain": [
       "<Figure size 640x480 with 1 Axes>"
      ]
     },
     "metadata": {},
     "output_type": "display_data"
    }
   ],
   "source": [
    "# Question 1 response here\n",
    "import numpy as np\n",
    "import scipy.optimize as sci\n",
    "import matplotlib.pyplot as plt\n",
    "\n",
    "def theory(x, a, b, c):\n",
    "    return a * np.sin((x - b) * c) / ((x - b) * c)\n",
    "\n",
    "data = np.loadtxt(\"quiz05_group_data.txt\")\n",
    "datx = data[:, 0]\n",
    "daty = data[:, 1]\n",
    "erry = data[:, 2]\n",
    "\n",
    "guesses = (100, 1, -105)\n",
    "\n",
    "params, pcov = sci.curve_fit(theory, datx, daty, p0=guesses, sigma=erry, absolute_sigma=True)\n",
    "perr = np.sqrt(np.diag(pcov))\n",
    "\n",
    "a, b, c = params\n",
    "da, db, dc = perr\n",
    "\n",
    "xarr = np.linspace(datx[0], datx[-1], 1000)\n",
    "\n",
    "plt.figure(0)\n",
    "plt.plot(xarr, theory(xarr, *guesses), \"b\")\n",
    "plt.errorbar(datx, daty, yerr=erry, fmt=\".r\")\n",
    "plt.title(\"Initial guess\")\n",
    "plt.legend([\"fit\",\"data\"])\n",
    "\n",
    "plt.figure(1)\n",
    "plt.plot(xarr, theory(xarr, *params), \"b\")\n",
    "plt.errorbar(datx, daty, yerr=erry, fmt=\".r\")\n",
    "plt.title(\"Fit\")\n",
    "plt.legend([\"fit\",\"data\"])\n",
    "\n",
    "print(\"a = {:.2f} \\u00B1 {:.1e}\".format(a, da))\n",
    "print(\"b = {:.3f} \\u00B1 {:.1e}\".format(b, db))\n",
    "print(\"c = {:.5f} \\u00B1 {:.1e}\".format(c, dc))"
   ]
  }
 ],
 "metadata": {
  "kernelspec": {
   "display_name": "Python 3.10.7 64-bit",
   "language": "python",
   "name": "python3"
  },
  "language_info": {
   "codemirror_mode": {
    "name": "ipython",
    "version": 3
   },
   "file_extension": ".py",
   "mimetype": "text/x-python",
   "name": "python",
   "nbconvert_exporter": "python",
   "pygments_lexer": "ipython3",
   "version": "3.10.7"
  },
  "orig_nbformat": 4,
  "vscode": {
   "interpreter": {
    "hash": "aee8b7b246df8f9039afb4144a1f6fd8d2ca17a180786b69acc140d282b71a49"
   }
  }
 },
 "nbformat": 4,
 "nbformat_minor": 2
}
